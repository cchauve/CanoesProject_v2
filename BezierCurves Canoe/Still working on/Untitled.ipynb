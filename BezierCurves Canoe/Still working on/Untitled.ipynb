{
 "cells": [
  {
   "cell_type": "code",
   "execution_count": 1,
   "id": "8899e2af-0df5-4ba6-afc4-1f3733a26e20",
   "metadata": {},
   "outputs": [],
   "source": [
    "from matplotlib import pyplot as plt\n",
    "import numpy as np\n",
    "import plotly.graph_objs as go\n",
    "\n",
    "from scipy import integrate\n",
    "import piplite\n",
    "await piplite.install('ipywidgets')\n",
    "from ipywidgets import interactive, fixed"
   ]
  },
  {
   "cell_type": "code",
   "execution_count": 2,
   "id": "12bb8a32-a702-4872-adb4-ccace96ea73b",
   "metadata": {},
   "outputs": [
    {
     "data": {
      "image/png": "[encoded data removed]",
      "text/plain": [
       "<Figure size 432x288 with 1 Axes>"
      ]
     },
     "metadata": {
      "needs_background": "light"
     },
     "output_type": "display_data"
    }
   ],
   "source": [
    "def weightA(t): return -1*pow(t,3) + 3*pow(t,2) - 3*t+1\n",
    "def weightB(t): return  3*pow(t,3) - 6*pow(t,2) + 3*t\n",
    "def weightC(t): return -3*pow(t,3) + 3*pow(t,2)\n",
    "def weightD(t): return    pow(t,3)\n",
    "\n",
    "resolution = 64\n",
    "N = resolution + 1\n",
    "\n",
    "A = [0, 3]\n",
    "B = [1, 8]\n",
    "C = [1,-7]\n",
    "D = [0,-4]\n",
    "\n",
    "#Numpy used to all array elements by a constant\n",
    "t = np.arange(N)/(N-1)\n",
    "\n",
    "X = [0] * N\n",
    "Y = [0] * N\n",
    "for i in range(0, N):\n",
    "    X[i] = A[0]*weightA(t[i]) + B[0]*weightB(t[i]) + C[0]*weightC(t[i]) + D[0]*weightD(t[i])\n",
    "    Y[i] = A[1]*weightA(t[i]) + B[1]*weightB(t[i]) + C[1]*weightC(t[i]) + D[1]*weightD(t[i])\n",
    "\n",
    "fig, ax = plt.subplots()\n",
    "\n",
    "ax.plot(X, Y, 'k', linewidth = 2.0, )\n",
    "ax.plot([A[0], B[0]], [A[1], B[1]], 'r', linewidth = 1.0)\n",
    "ax.plot([D[0], C[0]], [D[1], C[1]], 'r', linewidth = 1.0)\n",
    "ax.set(title=\"Bezier Curve in JupyterLab!!\")\n",
    "plt.show()\n"
   ]
  },
  {
   "cell_type": "code",
   "execution_count": 2,
   "id": "1f044652-ec25-411e-b52d-f760081afdcc",
   "metadata": {},
   "outputs": [],
   "source": [
    "### in a ABCD set of points, n = 1 is weight for A, n = 2 is weight for B, n = 3 for C, n = 4 for D. else result will return 0.\n",
    "def Weight(t, n : int): \n",
    "    #switch case only in python 3.10+ (or in pythons situation Match case)\n",
    "    if n == 1: return -1*pow(t,3) + 3*pow(t,2) - 3*t+1\n",
    "    if n == 2: return  3*pow(t,3) - 6*pow(t,2) + 3*t\n",
    "    if n == 3: return -3*pow(t,3) + 3*pow(t,2)\n",
    "    if n == 4: return    pow(t,3)\n",
    "\n",
    "    return 0\n",
    "\n",
    "\n",
    "def BCurve(A, B, C, D, t):\n",
    "    return A * Weight(t,1) + B * Weight(t,2) + C * Weight(t,3) + D * Weight(t,4)\n"
   ]
  },
  {
   "cell_type": "code",
   "execution_count": 1,
   "id": "b80f57a3-6885-4d28-9929-2789c411d12d",
   "metadata": {
    "tags": []
   },
   "outputs": [
    {
     "ename": "NameError",
     "evalue": "name 'np' is not defined",
     "output_type": "error",
     "traceback": [
      "\u001b[1;31m---------------------------------------------------------------------------\u001b[0m",
      "\u001b[1;31mNameError\u001b[0m                                 Traceback (most recent call last)",
      "Input \u001b[1;32mIn [1]\u001b[0m, in \u001b[0;36m<cell line: 2>\u001b[1;34m()\u001b[0m\n\u001b[0;32m      1\u001b[0m N \u001b[38;5;241m=\u001b[39m \u001b[38;5;241m32\u001b[39m\n\u001b[1;32m----> 2\u001b[0m t,s \u001b[38;5;241m=\u001b[39m \u001b[43mnp\u001b[49m\u001b[38;5;241m.\u001b[39mmeshgrid(np\u001b[38;5;241m.\u001b[39mlinspace(\u001b[38;5;241m0\u001b[39m, \u001b[38;5;241m1\u001b[39m, N), np\u001b[38;5;241m.\u001b[39mlinspace(\u001b[38;5;241m0\u001b[39m, \u001b[38;5;241m1\u001b[39m, N))\n\u001b[0;32m      3\u001b[0m \u001b[38;5;66;03m# Handles are the tangent vector of the surface at that point\u001b[39;00m\n\u001b[0;32m      4\u001b[0m \u001b[38;5;66;03m#               A->B        A -> C\u001b[39;00m\n\u001b[0;32m      5\u001b[0m \u001b[38;5;66;03m#     [[point], [tHandle], [sHandle]]\u001b[39;00m\n\u001b[0;32m      6\u001b[0m \u001b[38;5;66;03m# A = [[x,y,z], [x,y,z]  , [x,y,z]  ]\u001b[39;00m\n\u001b[0;32m      8\u001b[0m A \u001b[38;5;241m=\u001b[39m [[ \u001b[38;5;241m4\u001b[39m, \u001b[38;5;241m4\u001b[39m, \u001b[38;5;241m0\u001b[39m], [ \u001b[38;5;241m3\u001b[39m,\u001b[38;5;241m-\u001b[39m\u001b[38;5;241m3\u001b[39m, \u001b[38;5;241m-\u001b[39m\u001b[38;5;241m5\u001b[39m], [\u001b[38;5;241m-\u001b[39m\u001b[38;5;241m2\u001b[39m, \u001b[38;5;241m0\u001b[39m, \u001b[38;5;241m-\u001b[39m\u001b[38;5;241m2\u001b[39m]]\n",
      "\u001b[1;31mNameError\u001b[0m: name 'np' is not defined"
     ]
    }
   ],
   "source": [
    "N = 32\n",
    "t,s = np.meshgrid(np.linspace(0, 1, N), np.linspace(0, 1, N))\n",
    "# Handles are the tangent vector of the surface at that point\n",
    "#               A->B        A -> C\n",
    "#     [[point], [tHandle], [sHandle]]\n",
    "# A = [[x,y,z], [x,y,z]  , [x,y,z]  ]\n",
    "\n",
    "A = [[ 4, 4, 0], [ 3,-3, -5], [-2, 0, -2]]\n",
    "B = [[ 4,-4,-2], [ 0, 2, 0], [-2, 0, 10]]\n",
    "C = [[-4, 4, 0], [ 0,-2, 5], [ 2, 0, 3]]\n",
    "D = [[-4,-4, 4], [ 0, 2, 0], [ 2, 4, -6]]\n",
    "\n",
    "X = np.meshgrid(np.linspace(0, 0, N), np.linspace(0, 0, N))[0]\n",
    "Y = np.meshgrid(np.linspace(0, 0, N), np.linspace(0, 0, N))[0]\n",
    "Z = np.meshgrid(np.linspace(0, 0, N), np.linspace(0, 0, N))[0]\n",
    "surf = [X,Y,Z]\n",
    "\n",
    "#   <-----t----->\n",
    "# A --------------- B   /\\\n",
    "# |     |      |    |   |\n",
    "# AC--AC_h---BD_h---BD  s\n",
    "# |     |      |    |   |\n",
    "# C --------------- D  \\/\n",
    "#\n",
    "\n",
    "for d in [0,1,2]:  \n",
    "    for i in range(0,N):\n",
    "        for j in range(0,N):\n",
    "            AC   = BCurve(A[0][d]          , A[0][d] +           A[2][d], C[0][d] +           C[2][d], C[0][d]          , s[i][j])\n",
    "            AC_h = BCurve(A[0][d] + A[1][d], A[0][d] + A[1][d] + A[2][d], C[0][d] + C[1][d] + C[2][d], C[0][d] + C[1][d], s[i][j]) \n",
    "            BD_h = BCurve(B[0][d] + B[1][d], B[0][d] + B[1][d] + B[2][d], D[0][d] + D[1][d] + D[2][d], D[0][d] + D[1][d], s[i][j])\n",
    "            BD   = BCurve(B[0][d]          , B[0][d] +           B[2][d], D[0][d] +           D[2][d], D[0][d]          , s[i][j])\n",
    "            \n",
    "            #AC_h = A[1][d]*(1- s[i][j]) + C[1][d] * s[i][j] + AC\n",
    "            #BD_h = B[1][d]*(1- s[i][j]) + D[1][d] * s[i][j] + BD\n",
    "            \n",
    "            surf[d][i][j] = BCurve(AC, AC_h, BD_h, BD, t[i][j]) \n",
    "\n",
    "surface = go.Surface(x=surf[0], y=surf[1], z=surf[2])\n",
    "data = [surface]\n",
    "layout = go.Layout(\n",
    "    title='Bezier Surface Visualization',\n",
    "    scene=dict(\n",
    "        xaxis=dict(\n",
    "            gridcolor='rgb(255, 255, 255)',\n",
    "            zerolinecolor='rgb(255, 255, 255)',\n",
    "            showbackground=True,\n",
    "            backgroundcolor='rgb(230, 230,230)',\n",
    "            range=[-10, 10]\n",
    "        ),\n",
    "        yaxis=dict(\n",
    "            gridcolor='rgb(255, 255, 255)',\n",
    "            zerolinecolor='rgb(255, 255, 255)',\n",
    "            showbackground=True,\n",
    "            backgroundcolor='rgb(230, 230,230)',\n",
    "            range=[-10, 10]\n",
    "        ),\n",
    "        zaxis=dict(\n",
    "            gridcolor='rgb(255, 255, 255)',\n",
    "            zerolinecolor='rgb(255, 255, 255)',\n",
    "            showbackground=True,\n",
    "            backgroundcolor='rgb(230, 230,230)',\n",
    "            range=[-10, 10]\n",
    "        )\n",
    "    )\n",
    ")\n",
    "fig = go.Figure(data=data, layout=layout)\n",
    "fig.show()\n",
    "\n"
   ]
  },
  {
   "cell_type": "code",
   "execution_count": null,
   "id": "fc1d8fd8-ad10-4416-8050-c0c9ab9a735a",
   "metadata": {},
   "outputs": [],
   "source": []
  }
 ],
 "metadata": {
  "kernelspec": {
   "display_name": "Python 3 (ipykernel)",
   "language": "python",
   "name": "python3"
  },
  "language_info": {
   "codemirror_mode": {
    "name": "ipython",
    "version": 3
   },
   "file_extension": ".py",
   "mimetype": "text/x-python",
   "name": "python",
   "nbconvert_exporter": "python",
   "pygments_lexer": "ipython3",
   "version": "3.9.12"
  },
  "toc-showcode": false
 },
 "nbformat": 4,
 "nbformat_minor": 5
}
