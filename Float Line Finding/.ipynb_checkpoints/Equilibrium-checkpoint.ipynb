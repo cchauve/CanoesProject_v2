{
 "cells": [
  {
   "cell_type": "code",
   "execution_count": 1,
   "id": "ae8c88f2-2943-4dac-a154-acf7be602108",
   "metadata": {},
   "outputs": [],
   "source": [
    "from scripts.plot_funcs import type_three\n",
    "from scripts.plot_funcs import plot_canoe\n",
    "from scripts.equilibrium import EquilibriumSearch\n",
    "from matplotlib import pyplot as plt\n",
    "import numpy as np\n",
    "import plotly.graph_objs as go"
   ]
  },
  {
   "cell_type": "code",
   "execution_count": 2,
   "id": "e2e520cc-d3a4-4a41-8d7b-c830e523bc54",
   "metadata": {
    "tags": []
   },
   "outputs": [],
   "source": [
    "N = 16\n",
    "eta, theta = np.meshgrid(np.linspace(0.01, np.pi - 0.01, N), np.linspace(np.pi / 2, 3 * np.pi / 2, N))\n",
    "\n",
    "W1 = [0.6]\n",
    "W2 = [1.0]\n",
    "R3 = [3.0]\n",
    "a = np.arange(0.1, 0.3, 0.05)\n",
    "\n",
    "X, Y, Z = type_three(W1[0], W2[0], 1.0, 0.1, eta, theta)\n",
    "\n",
    "#fig = plot_canoe(R1=W1, R2=W2, R3=R3, a=a, eta=eta, theta=theta, type=3)\n",
    "\n",
    "#fig.show()"
   ]
  },
  {
   "cell_type": "code",
   "execution_count": 5,
   "id": "0e9a43ca-b2ba-45b6-ab11-72da18621f4d",
   "metadata": {},
   "outputs": [
    {
     "name": "stdout",
     "output_type": "stream",
     "text": [
      "AREA: \n",
      "5.686109217470859\n",
      "34910.91740673262\n",
      "8821.908097977552\n",
      "-4222.5965563999625\n",
      "2299.6557707887982\n",
      "-961.4703928055843\n",
      "669.0926889916058\n",
      "-146.18885190698944\n",
      "261.4519185423083\n",
      "57.63153331766005\n",
      "159.54172592998424\n",
      "210.4968222361471\n",
      "235.97437038922817\n",
      "223.23559631268657\n",
      "229.60498335095866\n",
      "226.42028983182286\n",
      "224.82794307225413\n",
      "-0.8323745727539062\n"
     ]
    }
   ],
   "source": [
    "print(-1*EquilibriumSearch(X,Y,Z, 3200, 16)) #Something wrong with the area."
   ]
  },
  {
   "cell_type": "code",
   "execution_count": 4,
   "id": "6e80aa6a-c413-43f6-b196-c5b8422e33c7",
   "metadata": {},
   "outputs": [
    {
     "data": {
      "text/plain": [
       "225.53799999999998"
      ]
     },
     "execution_count": 4,
     "metadata": {},
     "output_type": "execute_result"
    }
   ],
   "source": [
    "23*9.806"
   ]
  },
  {
   "cell_type": "code",
   "execution_count": null,
   "id": "6bf0cdb3-d193-46d4-aefc-c7be124b87ba",
   "metadata": {},
   "outputs": [],
   "source": []
  }
 ],
 "metadata": {
  "kernelspec": {
   "display_name": "Python 3 (ipykernel)",
   "language": "python",
   "name": "python3"
  },
  "language_info": {
   "codemirror_mode": {
    "name": "ipython",
    "version": 3
   },
   "file_extension": ".py",
   "mimetype": "text/x-python",
   "name": "python",
   "nbconvert_exporter": "python",
   "pygments_lexer": "ipython3",
   "version": "3.9.12"
  }
 },
 "nbformat": 4,
 "nbformat_minor": 5
}
