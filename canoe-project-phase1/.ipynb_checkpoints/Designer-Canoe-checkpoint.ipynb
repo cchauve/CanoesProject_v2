{
 "cells": [
  {
   "cell_type": "markdown",
   "id": "14799ba7-896c-4074-8c52-e2c96dee4f1a",
   "metadata": {},
   "source": [
    "# Making Canoe Models\n",
    "This note book will go over the concept and steps needed for creating a canoe model for the Mathematical Canoes Notebook. This will not go over 3d modelling displines as there are many better tutorials online teaching it. We will direct you to some in the respective chapters. "
   ]
  },
  {
   "cell_type": "markdown",
   "id": "43c3c1aa-4a4f-4f2d-9074-baa318805564",
   "metadata": {},
   "source": [
    "<center><img src=\"figures/BezierCanoeShowcase.PNG\" width=\"600\">"
   ]
  },
  {
   "cell_type": "markdown",
   "id": "effffd6e-8738-4ba9-a542-94fbc4e38482",
   "metadata": {},
   "source": [
    "We start by gathering references of our canoe. Then we use those references to 3d model a canoe, it doesnt need to be a clean model, it just needs to have the same relative 3d shape. Then we fix bezier curves on that model that bet represent it, the beziers will outline the major shape of the canoe. During these two steps we will only be modelling one side of the canoe. This is because we can mirror our work over with *in package* modifiers. This will keep our boat symmetric and save us some redundant work"
   ]
  },
  {
   "cell_type": "markdown",
   "id": "4d4a4225-d0bd-488d-89f5-76460c685755",
   "metadata": {},
   "source": [
    "## Reference Gathering\n",
    "\n",
    "The first step we take is getting our hands on the blueprints for a canoe. Though all we really need to make an accurate model is front, top and side view of the vessel.\n",
    "<center><img src=\"figures/kutenaicanoep169.jpg\" width=\"800\"></center>\n",
    "We will be using this to determine the curvature of the vessel at different sections. \n",
    "<center><img src=\"figures/Modelling Steps/Reference Setup.PNG\" width=\"800\"></center>\n",
    "<center> will properly crop images later </center>\n",
    "For continuinity we should also make sure our units match in the 3d modelling package. Most have the option to change from metric to impertial. With the proper units in place you can scale and rotate the reference. "
   ]
  },
  {
   "cell_type": "markdown",
   "id": "9cbf591a-dcca-4279-9530-724305934795",
   "metadata": {},
   "source": [
    "## Modelling\n",
    "\n",
    "We will use the open source 3d modelling package <a href=\"https://www.blender.org/\">Blender</a> to create our canoe.\n",
    "\n",
    "To begin, we start by extruding vertices over the silhouette of the canoe. Then along the respective contours lines. However during this process one may notice some descrepencies. Contours not quite matching up, lines that dont appear on other side views, or it *doesnt look right*. This is usually because the reference isnt 100% precise or accurate. Curved surfaces are incredibly difficult to draw accurately so when we follow the refence exactly, those missalignments start to show. It's then up to the modeller to make adjustments that best suit the general shape. Luckily you dont need to be too precise, this process is only supposed to yield a model that'll aid you in the Bezier Curve Fitting section \n",
    "\n",
    "<center><img src=\"figures/Modelling Steps/Modelling mid phase.PNG\" width=\"800\"></center>\n",
    "\n",
    "With the contours and edges of the canoe modelled, we can start filling in the missing areas. Some may notice that their canoe is fairly lumpy at this stage, this is not a big deal as there ways to smooth it out. This can be done manually if some spots have large bumps, but you can actually subdivide the surface to remove most of the lumps. You just need to *crease* some of the edges so that the general shape holds. In general its best to crease the countour lines presented in the reference\n",
    "\n",
    "**work in progress**\n",
    "<center><img src=\"figures/Modelling Steps/Modelling lumpy.PNG\" width=\"800\"></center>\n",
    "<center> The model is lumpy in a few areas </center>\n",
    "<center><img src=\"figures/Modelling Steps/Modelling Smoothing.PNG\" width=\"800\"></center>\n",
    "<center> Creased edges in purple</center>\n",
    "<center><img src=\"figures/Modelling Steps/Modelling Smoothed.PNG\" width=\"800\"></center>\n",
    "<center> Subdivided model</center>\n"
   ]
  },
  {
   "cell_type": "markdown",
   "id": "87842803-1485-4455-9f33-8d78b0f3a8b2",
   "metadata": {},
   "source": [
    "## Bezier Curve Fitting\n",
    "In the mathematical canoes we used bezier curves to create surfaces. In blender there isnt a tool for this, so we will improvise by placing two sets of bezier curves like in this diagram\n",
    "<center><img src=\"figures/BezierSurfaceNotation.PNG\" width=\"800\"></center>\n",
    "<center>Blue line is our $U$ bezier curves, Red line is our $V$ bezier curves</center>\n",
    "By placing $U$ and $V$ bezier curves with shared points, we can define various parts of our canoe. We are simplifying our curves a bit so we need to adjust how they'll be placed. The shared points have same handle tangents, and magnitudes. This mainly to simplify the data importing procedure. \n",
    "\n",
    "I found the best method for curve placement is to start from the top of the canoe. Placing the $U$ curves along the length of the canoe. Then after, you can duplicate the $U$ curve and fill them. \n",
    "<center><img src=\"figures/Modelling Steps/Bezier Curve 1st.PNG\" width=\"800\"></center>\n",
    "<center><img src=\"figures/Modelling Steps/Bezier Curve 2nd.PNG\" width=\"800\"></center>\n",
    "With both sets of curves\n",
    "<center><img src=\"figures/Modelling Steps/Bezier Curve final.PNG\" width=\"800\"></center>"
   ]
  },
  {
   "cell_type": "markdown",
   "id": "433de2a4-dff5-4f92-aa05-00ec3a017a05",
   "metadata": {},
   "source": [
    "## Bringing the data into the Notebook"
   ]
  },
  {
   "cell_type": "code",
   "execution_count": null,
   "id": "d4233614-7361-46bb-ab01-da7c86982a02",
   "metadata": {},
   "outputs": [],
   "source": []
  }
 ],
 "metadata": {
  "kernelspec": {
   "display_name": "Python 3 (ipykernel)",
   "language": "python",
   "name": "python3"
  },
  "language_info": {
   "codemirror_mode": {
    "name": "ipython",
    "version": 3
   },
   "file_extension": ".py",
   "mimetype": "text/x-python",
   "name": "python",
   "nbconvert_exporter": "python",
   "pygments_lexer": "ipython3",
   "version": "3.9.12"
  }
 },
 "nbformat": 4,
 "nbformat_minor": 5
}
