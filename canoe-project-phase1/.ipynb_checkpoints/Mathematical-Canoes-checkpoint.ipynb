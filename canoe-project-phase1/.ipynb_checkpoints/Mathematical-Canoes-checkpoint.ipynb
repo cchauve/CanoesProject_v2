{
 "cells": [
  {
   "cell_type": "markdown",
   "id": "649b5314-298f-4d2c-aa98-7321cfa2aa40",
   "metadata": {},
   "source": [
    "# Mathematical Modeling of Canoes"
   ]
  },
  {
   "cell_type": "markdown",
   "id": "11c2d3c5-8cc5-42a2-bceb-7a9033d7f134",
   "metadata": {},
   "source": [
    "## Objective\n",
    "In this notebook, we want to develop mathematical equations that represent the complex shape of canoes designed by First Nations people, and use those equations for creating interactive visualizations. Aswell as using these equations to generate data surrounding the canoes."
   ]
  },
  {
   "cell_type": "markdown",
   "id": "ba4a5659-2ed5-4f5b-90e9-e7ba24587694",
   "metadata": {},
   "source": [
    "## Different Types of Canoes\n",
    "\n",
    "Ranging in length from three to twenty metres, canoes were essential for travel, transport, hunting, and trade. Different coastal communities developed distinctive styles to suit their particular needs. The following figures refer to canoes from the First Nations people of the Pacific Northwest Coast who are renowned for their elegantly engineered canoes:"
   ]
  },
  {
   "cell_type": "markdown",
   "id": "3ddeeadd-662c-4194-8e25-918861dd2f38",
   "metadata": {},
   "source": [
    "<img src=\"figures/canoe-design-1.jpeg\" width=\"600\">\n",
    "<center>Canoe designs of the First Nations of the Pacific Northwest--Haida Canoe<center>\n",
    "<p>\n",
    "<font size=\"1\"> \n",
    "image from: <a href=\"https://www.donsmaps.com/images30/canoeimg_1225.jpg\">https://www.donsmaps.com/images30/canoeimg_1225.jpg</a>\n",
    "</font>\n",
    "<p>\n",
    "\n",
    "<img src=\"figures/haida00001a.gif\" width=\"800\">\n",
    "<center>Canoe designs of the First Nations of the Pacific Northwest--Haida Canoe<center>\n",
    "<p>\n",
    "<font size=\"1\"> \n",
    "image from: <a href=\"https://www.donsmaps.com/images30/haida00001a.gif\">https://www.donsmaps.com/images30/haida00001a.gif</a>\n",
    "</font>\n",
    "<p>\n",
    "\n",
    "The above two figures refer to the Haida canoe, while the following figure shows the design specifications for the Salish canoe:\n",
    "\n",
    "<img src=\"figures/salish00001a.gif\" width=\"800\">\n",
    "<center>Canoe designs of the First Nations of the Pacific Northwest--Salish Canoe<center>\n",
    "<p>\n",
    "<font size=\"1\"> \n",
    "image from: <a href=\"https://www.donsmaps.com/images30/salish00001a.gif\">https://www.donsmaps.com/images30/salish00001a.gif</a>\n",
    "</font>\n",
    "<p>\n",
    "\n",
    "Not all canoes have the same complex shape as the above two canoe types. Comprehensive information about the design specifications of other types of canoes can be found [here](https://www.donsmaps.com/canoedesigns.html). Some are included in below:\n",
    "\n",
    "<img src=\"figures/canadiancanoes1sm.jpeg\" width=\"400\">\n",
    "<center>1- Alaskan Eskimo umiak, or open boat, 2- Labrador Eskimo kayak, 3- Dog-rib canoe, 4- Malecite canoe, 5- Algonquin canoe, 6- Montagnais canoe<center>\n",
    "<p>\n",
    "<font size=\"1\"> \n",
    "image from: <a href=\"https://www.donsmaps.com/images27/canadiancanoes1.jpg\">https://www.donsmaps.com/images27/canadiancanoes1.jpg</a>\n",
    "</font>\n",
    "<p>\n",
    "    \n",
    "As the above figures suggest, there is no such thing as one-size-fits-all canoe design. The design directly impacts how canoes hanlde on the water. Some canoes are built for efficiency, i.e. for paddling fast with less effort, and some others are built for maneuverability, i.e. making turns quickly and easily. The following figures show a schematic picture of the shape of canoe from top, side and bottom.\n",
    "\n",
    "<img src=\"figures/canoe-design-diagram-terminology-parts-of-a-canoe-1024x824.png\" width=\"600\">\n",
    "<center>Schematic shape of canoes--top, bottom and side views<center>\n",
    "<p>\n",
    "<font size=\"1\"> \n",
    "image from: <a href=\"https://canoeing.com/wp-content/uploads/2017/01/canoe-design-diagram-terminology-parts-of-a-canoe-1024x824.png\">https://canoeing.com/wp-content/uploads/2017/01/canoe-design-diagram-terminology-parts-of-a-canoe-1024x824.png</a>\n",
    "</font>\n",
    "<p>"
   ]
  },
  {
   "cell_type": "markdown",
   "id": "5c27bf3b-661a-495c-948d-e6a8387ff6f4",
   "metadata": {},
   "source": [
    "## Mathematical Construction with Bézier Curves\n",
    "*draft*\n",
    "\n",
    "The smooth complexity of the canoes design makes it near impossible to assign one equation to define its boundary. However with piece wise approach that takes breaks the canoe into multiple sections we can assign a family of equations that string together multiple surfaces to define the body. For this we will use Bézier Curves, specifically for the 3d surface we will construct a Bézier Curve of the Bézier Curve. \n",
    "\n",
    "A Bézier Curve is a parametric curve $B(t)$ thats defined with control points $P_1,...,P_n$. $B(t)$ defines a smooth continuous curve from $P_1$ to $P_n$ in the respective range $[0,1]$. There a multiple ways to define/ construct Bézier Curves, for this we will go with the visual intuitative approach. To begin we will show a 2 and 3 point curve. \n",
    "\n",
    "### 2 Point Bézier Curve\n",
    "Suppose we have a 2 point Curve between $P_1$ and $P_2$ in order to make a smooth transition from one to the other we would linearly interpolate them. We will let $B(t)$ be the curve defined between them\n",
    "$$B(t) = P_1\\cdot(1-t) + P_2\\cdot(t)$$\n",
    "<center><img src=\"figures/2PointBezier.PNG\" width=\"400\"></center>\n",
    "<center>A 2 point Bézier Curve, refered to as a lerp or linear interpolation</center>   \n",
    "<center><font size=\"2\">  Generated from: <a href=\"https://www.desmos.com/calculator/zxdjavpvkr\">https://www.desmos.com/calculator/zxdjavpvkr</a></font></center>   \n",
    "    \n",
    "### 3 Point Bézier Curve\n",
    "Suppose we have a 3 point Curve between $P_1, P_2$, and $P_3$. We can define the curve $B(t)$ by algorithmically reducing the problem into a 2 Point Curve. Ideally  . We begin by defining $Q_1$ to be the interpolation $P_1$ to$P_2$ by $t$. Then doing the same for $P_2$ to $P_3$, and defining it $Q_2$. Linearly interpolating between $Q_1$ and $Q_2$ will give us a smooth curve from $P_1$ to $P_3$.\n",
    "$$Q_1 = P_1\\cdot(1-t) + P_2\\cdot(t) \\quad\\quad Q_2 = P_2\\cdot(1-t) + P_3\\cdot(t)$$\n",
    "    $$B(t) = Q_1\\cdot(1-t) + Q_2\\cdot(t)$$"
   ]
  },
  {
   "cell_type": "code",
   "execution_count": 1,
   "id": "3197a3bb-0851-41ae-a24b-dde8e38a632b",
   "metadata": {},
   "outputs": [
    {
     "data": {
      "application/vnd.jupyter.widget-view+json": {
       "model_id": "2c9acfa9f29b4cc180becaf0abdbb635",
       "version_major": 2,
       "version_minor": 0
      },
      "text/plain": [
       "interactive(children=(FloatSlider(value=0.0, description='x', max=5.0, readout=False, step=0.15625, style=Slid…"
      ]
     },
     "metadata": {},
     "output_type": "display_data"
    }
   ],
   "source": [
    "import scripts.BezierCurve_Interface as bci\n",
    "bci.CurveGraph()"
   ]
  },
  {
   "cell_type": "markdown",
   "id": "73977f7a-4d84-42c4-9d79-8207ad239005",
   "metadata": {},
   "source": [
    "In General, for an $n$ Point Curve would work our way down from $n$ points, to $2$ points.\n",
    "\n",
    "## Stringing Together Bézier Curves\n",
    "*Still sketching out the draft*\n",
    "\n",
    "To make complex curves with loops or specific sharp curve we can link Bezier Curves together with related points. This is typically done with 4 point curves, $P_1, P_2, P_3, P_4$. 4 point curves allow us the define the tangents of the curve at $P_1$, and $P_4$ using both $P_2$ and $P_3$ respectively.   \n",
    "\n",
    "<center><img src=\"figures/Two 4 point curves.PNG\" width=\"400\"></center>\n",
    "<center>2 Bezier Curves linked together, with the shared point $P_4$, adn related points $P_3,P_5$</center>   \n",
    "<center><font size=\"2\">  Generated from: <a href=\"https://www.desmos.com/calculator/mtalpjk1qv\">https://www.desmos.com/calculator/mtalpjk1qv</a> </font></center>   \n",
    "\n",
    "\n",
    "## Defining a Surface\n",
    "We can then take this higher and ask, what if we interpolate the points themselves, then we've defined an $s,t$ surface. \n",
    "\n",
    "**{Picture with the U and V control points, and s and t positions}**\n",
    "\n",
    "By stringing together these surfaces we can create any smooth shape canoe, that can then be paramaterized. We can change the length, the height, and width. There are other parameterizations we could do but it would start to mess with the actual shape of the canoe causing unwanted effects. "
   ]
  },
  {
   "cell_type": "code",
   "execution_count": 1,
   "id": "5194a33c",
   "metadata": {
    "tags": []
   },
   "outputs": [
    {
     "data": {
      "application/vnd.jupyter.widget-view+json": {
       "model_id": "98d1207fd0244be3b77cb6b14ade8397",
       "version_major": 2,
       "version_minor": 0
      },
      "text/plain": [
       "interactive(children=(FloatSlider(value=1.0, continuous_update=False, description='length scale', max=2.0, min…"
      ]
     },
     "metadata": {},
     "output_type": "display_data"
    }
   ],
   "source": [
    "import scripts.BezierSurf_Interface as bsi #Canoe interface\n",
    "import scripts.Buoyancy_Interface as bi #Buoyancy interface\n",
    "\n",
    "#Loads the widgets into Notebook top level, for access everywhere\n",
    "widgetLengthScale, widgetWidthScale, widgetHeightScale, widgetNames = bsi.GetWidgets() \n",
    "\n",
    "#plugs the widgets into Canoe the visualizer\n",
    "bsi.Canoe(widgetLengthScale, widgetWidthScale, widgetHeightScale, widgetNames)"
   ]
  },
  {
   "cell_type": "markdown",
   "id": "a1e608bd-8f2f-4407-a6e3-fb8339474d37",
   "metadata": {},
   "source": [
    "## Buoyancy of our Canoe\n",
    "\n",
    "In a related notebook we can use our model of the canoe to accurately determine the buoyancy/ float\n",
    "\n",
    "**Will recycle some of the work in the canoe-buoyancy notebook**"
   ]
  },
  {
   "cell_type": "code",
   "execution_count": 2,
   "id": "dd6d85b5-f238-424a-9f1b-18919cb50776",
   "metadata": {},
   "outputs": [
    {
     "data": {
      "application/vnd.jupyter.widget-view+json": {
       "model_id": "e0259d3eacce4125b4dd64559997dff4",
       "version_major": 2,
       "version_minor": 0
      },
      "text/plain": [
       "interactive(children=(FloatSlider(value=1.0, continuous_update=False, description='length scale', max=2.0, min…"
      ]
     },
     "metadata": {},
     "output_type": "display_data"
    }
   ],
   "source": [
    "#Same widgets get plugged into Buoyancy graph of canoe. Both models are linked.\n",
    "bi.CanoeBuoyancy(widgetLengthScale, widgetWidthScale, widgetHeightScale, widgetNames)"
   ]
  },
  {
   "cell_type": "markdown",
   "id": "3be679f0-f8cc-4d90-a5a8-58c1978bfa13",
   "metadata": {},
   "source": [
    "https://www.desmos.com/calculator/8xeyzzfnkz"
   ]
  },
  {
   "cell_type": "code",
   "execution_count": 2,
   "id": "f3dcbb75-091a-4f4d-918c-834f38fc3eb8",
   "metadata": {},
   "outputs": [
    {
     "name": "stdout",
     "output_type": "stream",
     "text": [
      "0\n"
     ]
    }
   ],
   "source": [
    "for i in range(1):\n",
    "    print(i)"
   ]
  },
  {
   "cell_type": "code",
   "execution_count": 5,
   "id": "06adab39-62a0-46cf-8561-fd1ef4e59e00",
   "metadata": {},
   "outputs": [
    {
     "name": "stdout",
     "output_type": "stream",
     "text": [
      "[0.   0.25 0.5  0.75]\n",
      "\n",
      "\n",
      "0.0\n",
      "0.25\n",
      "0.5\n",
      "0.75\n",
      "[[0.   0.   0.   0.   0.  ]\n",
      " [0.25 0.25 0.25 0.25 0.25]\n",
      " [0.5  0.5  0.5  0.5  0.5 ]\n",
      " [0.75 0.75 0.75 0.75 0.75]\n",
      " [0.   0.   0.   0.   0.  ]\n",
      " [0.25 0.25 0.25 0.25 0.25]\n",
      " [0.5  0.5  0.5  0.5  0.5 ]\n",
      " [0.75 0.75 0.75 0.75 0.75]\n",
      " [1.   1.   1.   1.   1.  ]]\n",
      "[[0. 0. 0. 0. 0.]\n",
      " [0. 0. 0. 0. 0.]\n",
      " [0. 0. 0. 0. 0.]\n",
      " [0. 0. 0. 0. 0.]\n",
      " [1. 1. 1. 1. 1.]\n",
      " [1. 1. 1. 1. 1.]\n",
      " [1. 1. 1. 1. 1.]\n",
      " [1. 1. 1. 1. 1.]\n",
      " [1. 1. 1. 1. 1.]]\n"
     ]
    },
    {
     "ename": "TypeError",
     "evalue": "'builtin_function_or_method' object is not iterable",
     "output_type": "error",
     "traceback": [
      "\u001b[1;31m---------------------------------------------------------------------------\u001b[0m",
      "\u001b[1;31mTypeError\u001b[0m                                 Traceback (most recent call last)",
      "Input \u001b[1;32mIn [5]\u001b[0m, in \u001b[0;36m<cell line: 28>\u001b[1;34m()\u001b[0m\n\u001b[0;32m     26\u001b[0m \u001b[38;5;28mprint\u001b[39m(XX)\n\u001b[0;32m     27\u001b[0m \u001b[38;5;28mprint\u001b[39m(YY)\n\u001b[1;32m---> 28\u001b[0m \u001b[38;5;28mprint\u001b[39m(\u001b[38;5;28;43mmax\u001b[39;49m\u001b[43m(\u001b[49m\u001b[43mXX\u001b[49m\u001b[38;5;241;43m.\u001b[39;49m\u001b[43many\u001b[49m\u001b[43m)\u001b[49m)\n",
      "\u001b[1;31mTypeError\u001b[0m: 'builtin_function_or_method' object is not iterable"
     ]
    }
   ],
   "source": [
    "import numpy as np\n",
    "n=4\n",
    "rows = 2\n",
    "cols = 1\n",
    "T = np.linspace(0,1, n, endpoint = False)\n",
    "print(T)\n",
    "print(\"\\n\")\n",
    "\n",
    "for i in range(0,n): print(T[i])\n",
    "\n",
    "rowsLinspace = np.linspace(0, 0, n*rows+1, endpoint = True)\n",
    "colsLinspace = np.linspace(0, 0, n*cols+1, endpoint = True)\n",
    "XX, YY    = np.meshgrid(colsLinspace, rowsLinspace)\n",
    "for i in range(rows):\n",
    "    for j in range(cols):\n",
    "        for t in range(0,n+1):\n",
    "            for s in range(0,n+1):\n",
    "                \n",
    "                if (s == n): \n",
    "                    u = 1\n",
    "                else: u = T[s]\n",
    "                \n",
    "                XX[i*n+s][j*n+t] = u\n",
    "                YY[i*n+s][j*n+t] = i+j\n",
    "            \n",
    "print(XX)\n",
    "print(YY)\n",
    "print(max(XX))"
   ]
  },
  {
   "cell_type": "code",
   "execution_count": 3,
   "id": "2474a133-fe78-4f4b-b8c5-942c929092be",
   "metadata": {},
   "outputs": [
    {
     "name": "stdout",
     "output_type": "stream",
     "text": [
      "0\n",
      "1\n",
      "2\n",
      "3\n"
     ]
    }
   ],
   "source": [
    "for i in range(4): print(i)"
   ]
  },
  {
   "cell_type": "code",
   "execution_count": 4,
   "id": "c01b4a99-e19b-4bae-bea8-1b995d8f286d",
   "metadata": {},
   "outputs": [
    {
     "data": {
      "text/plain": [
       "1"
      ]
     },
     "execution_count": 4,
     "metadata": {},
     "output_type": "execute_result"
    }
   ],
   "source": [
    "abs(-1)"
   ]
  },
  {
   "cell_type": "code",
   "execution_count": null,
   "id": "da3bbaba-3c67-4a02-9d41-7b262fdd438d",
   "metadata": {},
   "outputs": [],
   "source": []
  }
 ],
 "metadata": {
  "kernelspec": {
   "display_name": "Python 3 (ipykernel)",
   "language": "python",
   "name": "python3"
  },
  "language_info": {
   "codemirror_mode": {
    "name": "ipython",
    "version": 3
   },
   "file_extension": ".py",
   "mimetype": "text/x-python",
   "name": "python",
   "nbconvert_exporter": "python",
   "pygments_lexer": "ipython3",
   "version": "3.9.12"
  }
 },
 "nbformat": 4,
 "nbformat_minor": 5
}
