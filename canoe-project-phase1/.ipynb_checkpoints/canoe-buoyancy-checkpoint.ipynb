{
 "cells": [
  {
   "cell_type": "markdown",
   "id": "c9bf2a2d",
   "metadata": {},
   "source": [
    "# Static Stability of Canoes in Water"
   ]
  },
  {
   "cell_type": "markdown",
   "id": "269f0156",
   "metadata": {},
   "source": [
    "## Buoyancy force and submergence depth\n",
    "\n",
    "### Simple case"
   ]
  },
  {
   "cell_type": "markdown",
   "id": "94769b83",
   "metadata": {},
   "source": [
    "In order to introduce the concept of buoyancy force and how it can be used for calculation of the submergence depth, we consider a very simple model of a cuboid block with length $L$, height $H$ and width $D$ partly submerged in water as shown in the figure below:\n",
    "\n",
    "<img src=\"figures/buoyancy-1.png\" width=\"600\">\n",
    "    \n",
    "All the forces acting on this block are shown in the picture which include its weigh $W_b$ and the water pressure acting on its side and bottom surfaces. The weight of the block can be calculated by multiplying its unit weight $\\gamma_b$ with its volume $V_b = LHD$:\n",
    "\n",
    "$$\n",
    "W_b=\\gamma_b V_b = \\gamma_b LHD\n",
    "$$\n",
    "    \n",
    "The water pressure is the hydrostatic pressure varying linearly with depth in the water, i.e.:\n",
    "$$\n",
    "p_w=\\gamma_w z\n",
    "$$\n",
    "   \n",
    "As such for the side surfaces of the block, the water pressure starts from zero at the water surface and reaches $\\gamma_w H_s$ at the bottom of the block. For the bottom surface of the block the water pressure is uniform an equal to $\\gamma_w H_s$. \n",
    "\n",
    "Next, we calculate the net force from water on the block $F_p$. The net forces on the left and right side are symmetrical, this they cancel each other. The net force from water on the bottom face of the block can be calculated by multiplying the uniform force from water by the surface area of the bottom surface:\n",
    "$$\n",
    "F_p = \\gamma_w H_s L D = \\gamma_w V_s\n",
    "$$\n",
    "\n",
    "As can be seen from the above equation, the net force from water on the block $F_p$ is obtained from multiplying the unit weight of water by the submerged volume of the block $V_s$. This is basically what is called the **Buoyancy force**.\n",
    "    \n",
    "Knowing all the forces acting on the block, in the static condition, the vector summation of all the forces acting on the block should be equal to zero which is mathematically shown as:\n",
    "$$\n",
    "\\sum_i \\vec{F}_i = 0\n",
    "$$\n",
    "\n",
    "This is called static equilibrium conditon. In the case where static stability cannot be acheived, the block will start to move. Movement of the block is described by the dynamic equilibrium equation:\n",
    "$$\n",
    "\\sum_i \\vec{F}_i = \\frac{\\gamma_b V_b}{g} \\vec{a}\n",
    "$$\n",
    "where $g$ is the gravitational acceleration and $\\vec{a}$ is the acceleration of the block. Based on this discussion, three scenarios can happen for the block in the water:\n",
    "    \n",
    "a) $\\gamma_b<\\gamma_w$: in this case, the block will partially submerge in the water and reach static equilibrium. The submergence depth can be calculated by using the static equilibrium equation (the upward direction is taken as positive):\n",
    "$$\n",
    "\\sum_i \\vec{F}_i = F_p - W_b = \\gamma_w V_s - \\gamma_b V_b = \\gamma_w H_s LD - \\gamma_b LHD = 0 \\rightarrow H_s = \\frac{\\gamma_b}{\\gamma_w} H\n",
    "$$\n",
    "\n",
    "we see that the smaller the unit weight of the block, the smaller its submergence depth.\n",
    "    \n",
    "b) $\\gamma_b=\\gamma_w$: this case is a special case of scenario a where $H_s=H$ meaning the block will fully submerge in water and reach static equilibrium (remain stationary)\n",
    "    \n",
    "c) $\\gamma_b>\\gamma_w$: in this case, the equation of static equilibrium cannot be satisfied in any condition. Thus, the block will fully submerge in water and its movement (acceletation) can be described by the dynamic equilibrium equatioin:\n",
    "$$\n",
    "\\sum_i \\vec{F}_i = \\gamma_w V_s - \\gamma_b V_b = \\gamma_w LHD - \\gamma_b LHD = \\frac{\\gamma_b LHD}{g} \\vec{a} \\rightarrow \\vec{a} = \\frac{\\gamma_w - \\gamma_b}{\\gamma_b} g\n",
    "$$\n",
    "    \n",
    "We see that the acceleration is negative, i.e. downward, less than the gravitation acceleration, and increases as the unit weight of the block increases."
   ]
  },
  {
   "cell_type": "markdown",
   "id": "bcf0c08e",
   "metadata": {},
   "source": [
    "### General case\n",
    "\n",
    "#### Gauss's Theorem (divergence theorem)\n",
    "For the derivation of the buoyancy force for a body with an arbitrary shape, we need to recall an important theorem in calculus called the Gauss's theorem or divergence theorem which states that for any arbitrary differentiable vector field $\\vec{W}_i$:\n",
    "$$\n",
    "\\int_{\\Gamma} \\vec{W}_i \\vec{n}_j \\mathrm{d}S = \\int_{V} \\frac{\\partial \\vec{W}_i}{\\partial \\vec{x}_j} \\mathrm{d}V\n",
    "$$\n",
    "where $\\Gamma$ is a surface enclosing a volume $V$, and $\\vec{n}_i$ is the normal vector to $\\Gamma$. Also, $\\vec{x}_i$ is the position vector.\n",
    "\n",
    "#### Buoyancy force\n",
    "The net force from water $\\vec{F}^p_i$ on an arbitrarily shaped body partially submerged in water (see Figure below) can be calculated:\n",
    "$$\n",
    "\\vec{F}^p_i = - \\int_{\\Gamma_w} p n_i \\mathrm{d}S\n",
    "$$\n",
    "\n",
    "<img src=\"figures/buoyancy-2.png\" width=\"600\">\n",
    "\n",
    "The above surface integral is defined over an open surface. In order to be able to use the Gauss's theorem, we need to consider only the portion of the body submerged in water with the boundary shown as $\\Gamma_s$ (see Figure below).\n",
    "\n",
    "<img src=\"figures/buoyancy-3.png\" width=\"600\">\n",
    "\n",
    "Since the water pressure is zero at the water surface, we can re-write the above integral as:\n",
    "$$\n",
    "\\vec{F}^p_i = - \\int_{\\Gamma_s} p n_i \\mathrm{d}S = - \\int_{\\Gamma_s} \\gamma_w z n_i \\mathrm{d}S\n",
    "$$\n",
    "\n",
    "Now since the integral is defined over an enclosed surface, we can use the Gauss's theorem:\n",
    "$$\n",
    "\\vec{F}^p_i = - \\int_{\\Gamma_s} \\gamma_w z n_i \\mathrm{d}S = \\gamma_w \\int_{V_s} \\frac{\\partial x_3}{\\partial \\vec{x}_i} \\mathrm{d}V = \\gamma_w V_s \\delta_{i3} = \\gamma_w V_s \\vec{e}_{3}\n",
    "$$\n",
    "where we used the fact that $z=-x_3$. In the above relation, $\\delta_{ij}$ is the Kronecker delta, and $\\vec{e}_3$ is the unit vector in the direction of $x_3$. The above equation basically means that the buoyancy force is equal to the unit weight of water $\\gamma_w$ times the submerged volume of the body $V_s$ and is acting upward. Its magnitude is therefore:\n",
    "$$\n",
    "F_p = \\gamma_w V_s\n",
    "$$\n",
    "which is the same relation as we obtained for the simple case. The three scenarios discussed for the simple case are valid for the general case"
   ]
  }
 ],
 "metadata": {
  "kernelspec": {
   "display_name": "Python 3 (ipykernel)",
   "language": "python",
   "name": "python3"
  },
  "language_info": {
   "codemirror_mode": {
    "name": "ipython",
    "version": 3
   },
   "file_extension": ".py",
   "mimetype": "text/x-python",
   "name": "python",
   "nbconvert_exporter": "python",
   "pygments_lexer": "ipython3",
   "version": "3.9.12"
  }
 },
 "nbformat": 4,
 "nbformat_minor": 5
}
