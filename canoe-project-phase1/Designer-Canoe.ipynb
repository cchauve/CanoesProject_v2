{
 "cells": [
  {
   "cell_type": "markdown",
   "id": "14799ba7-896c-4074-8c52-e2c96dee4f1a",
   "metadata": {},
   "source": [
    "# Making Canoe Models\n",
    "---\n",
    "This note book will go over the concept and steps needed for modelling a canoe. We will also go over how to import this model to Mathematical Canoes Notebook. This will not go over 3d modelling displines as there are many better tutorials online teaching it. We will direct you to some in the respective chapters. \n",
    "\n",
    "We will mainly use <a href=\"https://www.blender.org/\">Blender</a> for this. The version we are using is <a href=\"https://download.blender.org/release/\">Blender 3.2</a>\n",
    "\n",
    "<center><img src=\"figures/BezierCanoeShowcase.PNG\" width=\"600\">\n",
    "\n",
    "We start by gathering references of our canoe. Then we use those references to create the 3d model, it doesnt need to be clean and perfect, it just needs to have the same relative 3d shape and sillohoute. This is because the calculations we employ on this surface are stable, small changes in the input lead to small changes in the output. \n",
    "We will take our 3d model and fix bezier curves along it to \"hold\" and define the surface. These are typically placed along major changes in the shape of the canoe. From the top edge of the canoe before we get to the interior, and along the bottom spine of the canoe. \n",
    "\n",
    "It should be noted that for consistency we will only be modelling one side of the canoe. This is because we can mirror our work over with *in package* modifiers. This will keep our boat symmetric and save us some redundant work. This will also be done with the Bezier Curves, however that will be done in the notebook, since it'll help us save on the needed calculations.\n",
    "\n",
    "After the curves are placed, we will take the data to our notebook and convert the points into a shorter usable form thats easier to manipulate. "
   ]
  },
  {
   "cell_type": "markdown",
   "id": "4d4a4225-d0bd-488d-89f5-76460c685755",
   "metadata": {
    "jp-MarkdownHeadingCollapsed": true,
    "tags": []
   },
   "source": [
    "## Reference Gathering\n",
    "---\n",
    "The first step we take is getting our hands on the blueprints for a canoe. This should include the front, top and side views of the vessel. Or less. Some experienced 3d modellers can create most objects just from a single view though it may not be precisely the same. \n",
    "\n",
    "|Kutenai Canoe| Haida Canoe|\n",
    "|:-------------------------:|:-------------------------:|\n",
    "|<img src=\"figures/kutenaicanoep169.jpg\" width=\"800\">|<img src=\"figures/haida00001a.gif\" width=\"800\">|\n",
    "|<font size=\"1\">The Kutenai Canoe blueprint from <a href=\"https://www.donsmaps.com/images33/kutenaicanoep169.jpg\">https://www.donsmaps.com/images33/kutenaicanoep169.jpg</a> with Imperial metrics</font>| <font size=\"1\">The Haida Canoe blueprint from <a href=\"https://www.donsmaps.com/images30/haida00001a.gif\">https://www.donsmaps.com/images30/haida00001a.gif</a> with Imperial metrics</font>|\n",
    "\n",
    "With this reference we will open in Blender then set it up in the correct views. Along with adjusting our unit metrics to Imperial for accurate scaling.\n",
    "\n",
    "<details><summary><font size = \"5\" >Hot Keys and menu items needed</font></summary>\n",
    "    \n",
    "|Keys/ menu| Action|\n",
    "|:---|:---|\n",
    "|Shift+A or in Object mode, the add menu at the top| Used for creating objects (images$\\rightarrow$ reference, meshes, and others) at the 3d Cursor<img align=\"right\" src=\"figures/BlenderCursor.PNG\" width = \"50\">|\n",
    "|Alt+R or in Object mode, Object$\\rightarrow$Clear$\\rightarrow$Rotation| Clears the rotation of an object. This makes it align the with the cardinals|\n",
    "|G or Press T to select the <img align=\"right\" src=\"figures/BlenderMove.PNG\" width = \"50\"> | Allows you to move the object, pressing X, Y, Z while moving locks movement in the axis. Use numbers for exact movements|\n",
    "|R or Press T to select the <img align=\"right\" src=\"figures/BlenderRot.PNG\" width = \"50\">| Allows you to rotate the object, same axis locking and number typing for specific rotation values|\n",
    "|S or Press T to select the <img align=\"right\" src=\"figures/BlenderSize.PNG\" width = \"50\">| Allows you to Scale the object, same axis locking and number typing for specific rotation values|\n",
    "|View$\\rightarrow$ Frame Selected or Frame All| Brings the camera in view of the respective item(s) in case you \"lost them\"|\n",
    "|Shift+C or Object$\\rightarrow$Snap$\\rightarrow$Cursor to World Origin| Moves the cursor to the world origin, useful for creating objects in certain positions or achored transformations like scaling or rotating. Used below|\n",
    "|numpad # or View$\\rightarrow$Viewpoint| Allows you to change the direction the camera points, usefull for aligning images and other such items.|\n",
    "    \n",
    "</details>\n",
    "    \n",
    "We will be using this to determine the curvature of the vessel at different sections. They are also placed in a way that \"centers\" our canoe, so that we can mirrored the geometry from the positive $y$ axis to the negative. This can also be done vise versa. \n",
    "\n",
    "In order to aid us we can set the Blender units to Imperial. We can also set the opacity of the reference to around 0.33 so we can see the grid while scaling, this will also help us model the canoe. It's also helpfull to be able to scale from an anchor point, usually the 3d curso, the red and white dashed circle in the Anchored scaling picture. That 3d Cursor can be placed by left clicking, although depending on how you set your blender up it would be right click. \n",
    "\n",
    "|Blender units| Reference Opacity | Anchored scaling |\n",
    "|:---:|:---:|:---:|\n",
    "|<img src=\"figures/BlenderUnits.PNG\" width = \"300\">|<img src=\"figures/BlenderOpacity.PNG\" width = \"300\"> |<img src=\"figures/BlenderAnchor.PNG\" width = \"500\"> |\n",
    "|So we match units with the reference|So we can see the grid lines and model|To aid us scaling the reference to match the world units. Typically this is set to median point (which you should switch it back to after)|\n",
    "\n",
    "**Important**: We want our boats length to be in the positive $x$ direction. This is mainly for continuity between canoes so that our graphs can properly render everything. You can always move your boat later in case this wasnt followed. This is for continuity when rendering the surface in the notebook and because the Parser script uses it to sort the splines in a later step.\n",
    "\n",
    "\n",
    "<center><img src=\"figures/BlenderViews.PNG\" width=\"1000\"></center>\n",
    "<font size=\"2\"><center>\n",
    "    References placed with front and side views set up\n",
    "</center></font>\n"
   ]
  },
  {
   "cell_type": "markdown",
   "id": "9cbf591a-dcca-4279-9530-724305934795",
   "metadata": {},
   "source": [
    "## Modelling\n",
    "---\n",
    "To begin, we start by extruding vertices over the silhouette of the canoe. Then along the respective contours lines. However during this process one may notice some descrepencies. Areas where the contours don't match up either because the lines dont appear in other side views, or it looks *off*. This is usually because the reference is not 100% precise. Curved surfaces are incredibly difficult to draw precisly so when we follow the refence exactly, those missalignments start to show. It's up to the modeller/ or canoe crafts person to make adjustments that best suit the general shape. Luckily you dont need to be too precise, this process is only supposed to yield a model that'll aid in the Bezier Curve Fitting section.\n",
    "\n",
    "We begin with a plane, or any other object with a low vertex count. Then switch to edit mode to manipulate the vertices. We delete all the vertices except for one and use that to start us off. \n",
    "\n",
    "<details><summary><font size = \"5\" >Hot Keys and menu items needed</font></summary>\n",
    "    \n",
    "|Keys/ menu| Action|\n",
    "|:---|:---|\n",
    "|Tab, or <img src=\"figures/BlenderMode.PNG\" width=\"100\">|Allows the user to manipulate vertices of the selected object | \n",
    "|X, or Object$\\rightarrow$Delete, or Mesh$\\rightarrow$Delete|Deletes the selected item|\n",
    "|E, or Mesh$\\rightarrow$Extrude| extrudes the currently selected item. Allows you to string together vertices, or create planes if two vertices are selected|\n",
    "    \n",
    "</details>\n",
    "\n",
    "<center><img src=\"figures/Modelling Steps/Modelling mid phase.PNG\" width=\"800\"></center>\n",
    "<center><font size=\"1\">Model with the contours placed in 3d space, along with some connected faces.</font></center>\n",
    "With the contours and edges of the canoe modelled, we can start filling in the missing areas. Some may notice that their canoe is fairly lumpy at this stage, this is not a big deal as there are ways to smooth it out. This can be done manually if some spots have large bumps, but you may subdivide the surface to smooth the surface. You just need to *crease* some of the edges so that the general shape holds. It is best to crease the countour lines presented in the reference alng with the spine and top edges of the canoe. This tells the subdivision to hold those edges in place, while it has free rein to smooth the rest.\n",
    "\n",
    "### Lumpy Mesh Being Subdivided.\n",
    "<center><img src=\"figures/Modelling Steps/Modelling lumpy.PNG\" width=\"800\"></center>\n",
    "<center> The model is lumpy in a few areas </center>\n",
    "<center><img src=\"figures/Modelling Steps/Modelling Smoothing.PNG\" width=\"800\"></center>\n",
    "<center> Creased edges in purple</center>\n",
    "<center><img src=\"figures/Modelling Steps/Modelling Smoothed.PNG\" width=\"800\"></center>\n",
    "<center> Subdivided model</center>\n"
   ]
  },
  {
   "cell_type": "markdown",
   "id": "87842803-1485-4455-9f33-8d78b0f3a8b2",
   "metadata": {},
   "source": [
    "## Bezier Curve Fitting\n",
    "---\n",
    "In the mathematical canoes we used bezier curves to create surfaces. In blender there isnt a tool for this, so we will improvise by placing two sets of bezier curves like in this diagram\n",
    "<center><img src=\"figures/BezierSurfaceNotation.PNG\" width=\"800\"></center>\n",
    "<center>Blue line is our $U$ bezier curves, Red line is our $V$ bezier curves</center>\n",
    "By placing $U$ and $V$ bezier curves with shared points, we can define various parts of our canoe. We are simplifying our curves a bit so we need to adjust how they'll be placed. The shared points have same handle tangents, and magnitudes. This mainly to simplify the data importing procedure. \n",
    "\n",
    "\n",
    "I found the best method for curve placement is to start from the top of the canoe. Placing the $V$ curves along the length of the canoe to get the silhouette from the top view. Then to duplicate the anchor points you want to connect for the $U$ curves and seperate them by object. After which you can connect them with little to no mess.\n",
    "\n",
    "The reason we assign the curves this way is so that it's nicer to view/ edit in code.\n",
    "<center><img src=\"figures/Modelling Steps/Bezier Curve 1st.PNG\" width=\"800\"></center>\n",
    "<center><font size=\"1\">The $V$ curves along the length of the canoe</font></center>\n",
    "<center><img src=\"figures/Modelling Steps/Bezier Curve 2nd.PNG\" width=\"800\"></center>\n",
    "<center><font size=\"1\">The $U$ curves strewn vertically along the canoe</font></center>\n",
    "Both sets of curves should meet at the same anchor points when brought together. However if they are just relatively close this will work as well.\n",
    "<center><img src=\"figures/Modelling Steps/Bezier Curve final.PNG\" width=\"800\"></center>"
   ]
  },
  {
   "cell_type": "markdown",
   "id": "433de2a4-dff5-4f92-aa05-00ec3a017a05",
   "metadata": {},
   "source": [
    "## Bringing the data into the Notebook"
   ]
  },
  {
   "cell_type": "markdown",
   "id": "8f9f1de4-5e34-43ab-80a1-2f9dc7a6b16e",
   "metadata": {},
   "source": [
    "Will fill this out better later in the day\n",
    "The curve that travels from one end of the canoe to the other should be named the \"Haida U\", while the one the goes along the length of the canoe should be named the \"Haida V\". This is so the Parser can pick them up. Make sure its the Curves name, or else it wont be found!\n",
    "<center><img src=\"figures/BlenderExport1.PNG\" width=\"800\"></center>\n",
    "Load the Parser script and make a new text entry called \"Data\". That is where the information will export to.\n",
    "\n",
    "<center><img src=\"figures/BlenderExport2.PNG\" width=\"800\"></center>\n",
    "Then copy paste the result into the respective function. Then add the function to the canoe set up and add the respective widget name for selection.\n",
    "<center><img src=\"figures/BlenderWidgetName.PNG\" width=\"800\"></center>"
   ]
  },
  {
   "cell_type": "code",
   "execution_count": null,
   "id": "da4a905b-07a5-474a-9d6a-a8b3ced7c7fb",
   "metadata": {},
   "outputs": [],
   "source": []
  }
 ],
 "metadata": {
  "kernelspec": {
   "display_name": "Python 3 (ipykernel)",
   "language": "python",
   "name": "python3"
  },
  "language_info": {
   "codemirror_mode": {
    "name": "ipython",
    "version": 3
   },
   "file_extension": ".py",
   "mimetype": "text/x-python",
   "name": "python",
   "nbconvert_exporter": "python",
   "pygments_lexer": "ipython3",
   "version": "3.9.12"
  }
 },
 "nbformat": 4,
 "nbformat_minor": 5
}
