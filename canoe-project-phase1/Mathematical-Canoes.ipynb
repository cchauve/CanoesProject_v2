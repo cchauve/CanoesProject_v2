{
 "cells": [
  {
   "cell_type": "markdown",
   "id": "649b5314-298f-4d2c-aa98-7321cfa2aa40",
   "metadata": {},
   "source": [
    "# **Mathematical Modeling of Canoes**\n",
    "---"
   ]
  },
  {
   "cell_type": "markdown",
   "id": "11c2d3c5-8cc5-42a2-bceb-7a9033d7f134",
   "metadata": {},
   "source": [
    "## Objective\n",
    "In this notebook, we want to develop mathematical equations that represent the complex shape of canoes designed by First Nations people, and use those equations for creating interactive visualizations. Aswell as using these equations to generate data surrounding the canoes."
   ]
  },
  {
   "cell_type": "markdown",
   "id": "6be72228-41a5-4b0a-a69d-379a7d71ab48",
   "metadata": {},
   "source": [
    "## **Different Types of Canoes**\n",
    "---\n",
    "Ranging in length from three to twenty metres, canoes were essential for travel, transport, hunting, and trade. Different coastal communities developed distinctive styles to suit their particular needs. The following figures refer to canoes from the First Nations people of the Pacific Northwest Coast who are renowned for their elegantly engineered canoes:\n",
    "\n",
    "<center><img src=\"figures/canoe-design-1.jpeg\" width=\"600\"><br />\n",
    "Canoe designs of the First Nations of the Pacific Northwest--Haida Canoe<br />\n",
    "image from: <a href=\"https://www.donsmaps.com/images30/canoeimg_1225.jpg\">https://www.donsmaps.com/images30/canoeimg_1225.jpg</a>\n",
    "</center>\n",
    "\n",
    "\n",
    "There is a great level of detail in the craft of the canoe, much of which can be seen in the blueprints themselves. Measurements of the various points along the length and various contour lines. There are even views from the front, side, and sometimes top. It may be difficult to see at first glance, but these views are too scale.\n",
    "\n",
    "|Haida Canoe | Salish Canoe |\n",
    "|:---:|:---:|\n",
    "|<img src=\"figures/haida00001a.gif\" width=\"800\"><br />Canoe designs of the First Nations of the Pacific Northwest--Haida Canoe<br />image from: [https://www.donsmaps.com/images30/haida00001a.gif](https://www.donsmaps.com/images30/haida00001a.gif)| <img src=\"figures/salish00001a.gif\" width=\"800\"><br />Canoe designs of the First Nations of the Pacific Northwest--Salish Canoe<br />image from: [https://www.donsmaps.com/images30/salish00001a.gif](https://www.donsmaps.com/images30/salish00001a.gif)|\n",
    "\n",
    "Not all canoes have the same complex shape as the above two canoe types. There is no such thing as one-size-fits-all canoe design. The design directly impacts how canoes hanlde on the water. Some canoes are built for efficiency, i.e. for paddling fast with less effort, and some others are built for maneuverability, i.e. making turns quickly and easily. Comprehensive information about the design specifications of other types of canoes can be found at [https://www.donsmaps.com/canoedesigns.html](https://www.donsmaps.com/canoedesigns.html). \n",
    "\n",
    "\n",
    "<center><img src=\"figures/canadiancanoes1sm.jpeg\" width=\"400\"><br />\n",
    "1- Alaskan Eskimo umiak, or open boat, 2- Labrador Eskimo kayak, 3- Dog-rib canoe, 4- Malecite canoe, 5- Algonquin canoe, 6- Montagnais canoe<br />\n",
    "image from:<a href=\"https://www.donsmaps.com/images27/canadiancanoes1.jpg\">https://www.donsmaps.com/images27/canadiancanoes1.jpg</a>\n",
    "</center>\n",
    "\n"
   ]
  },
  {
   "cell_type": "markdown",
   "id": "5c27bf3b-661a-495c-948d-e6a8387ff6f4",
   "metadata": {},
   "source": [
    "## **Mathematical Construction with Bézier Curves**\n",
    "---\n",
    "In order to perform calculations on the canoes we need a mathematical model to define them. The smooth complexity of the canoes many designs make it near impossible to assign one equation to define every vessel. However with a piece wise approach that breaks the canoe into multiple sections we can assign a family of equations that string together various surfaces to define the body. For this we will use Bézier Surfaces, these are generalization of the typical Bézier Curve. We will begin by exploring the construction of Bézier Curves and work our way up to the surface form to eventually create our canoe models. \n",
    "\n",
    "A Bézier Curve is a parametric curve $C(t)$ that's strung between the control points $P_1,...,P_n$. $C(t)$ which are used to define a smooth continuous curve from $P_1$ to $P_n$ in the respective range $t\\in[0,1]$. There are multiple ways to define/ construct Bézier Curves, however for this we will go with the visual intuitative approach. To begin we will show a 2 and 3 point curve. \n",
    "\n",
    "### 2 Point Bézier Curve\n",
    "\n",
    "Suppose we have a 2 point Curve between $P_1$ and $P_2$ in order to make a smooth transition from one to the other we would linearly interpolate them. We will let $C(t)$ be the curve defined between them\n",
    "$$C(t) = P_1\\cdot(1-t) + P_2\\cdot(t)$$\n",
    "<center><img src=\"figures/2PointBezier.PNG\" width=\"400\"><br />\n",
    "A 2 point Bézier Curve, refered to as a lerp or linear interpolation<br />\n",
    "<font size=\"2\">  Generated from: <a href=\"https://www.desmos.com/calculator/zxdjavpvkr\">https://www.desmos.com/calculator/zxdjavpvkr</a></font>\n",
    "</center>\n",
    "When $t = 0$ the function equates to $C(0) = P_1\\cdot(1) + P_2\\cdot(0) = P_1$<br />\n",
    "When $t = 1$ the function equates to $C(1) = P_1\\cdot(0) + P_2\\cdot(1) = P_2$<br />\n",
    "Any $t$ value inbetween will result in a \"blend\" between $P_1$ and $P_2$\n",
    "\n",
    " \n",
    "### 3 Point Bézier Curve\n",
    "\n",
    "Suppose we have a 3 point Curve between $P_1, P_2$, and $P_3$. We can define the curve $C(t)$ by algorithmically reducing the problem into a 2 Point Curve. We begin by defining $Q_1$ to be the interpolation from $P_1$ to $P_2$. Then doing the same for $P_2$ to $P_3$ with $Q_2$.<br />\n",
    "Next we linearly interpolating between the two points $Q_1(t)$ and $Q_2(t)$ using $C(t)$, note that these are all the same type of function, we just gave them different labels to help distinguish them.\n",
    "<left>\n",
    "$$Q_1 = P_1\\cdot(1-t) + P_2\\cdot(t) \\quad\\quad Q_2 = P_2\\cdot(1-t) + P_3\\cdot(t)$$\n",
    "    $$C(t) = Q_1(t)\\cdot(1-t) + Q_2(t)\\cdot(t)$$"
   ]
  },
  {
   "cell_type": "code",
   "execution_count": 1,
   "id": "3197a3bb-0851-41ae-a24b-dde8e38a632b",
   "metadata": {},
   "outputs": [
    {
     "data": {
      "application/vnd.jupyter.widget-view+json": {
       "model_id": "d11264a1ff244768ab4a3a176b44bc37",
       "version_major": 2,
       "version_minor": 0
      },
      "text/plain": [
       "interactive(children=(FloatSlider(value=0.0, description='x', max=5.0, readout=False, step=0.15625, style=Slid…"
      ]
     },
     "metadata": {},
     "output_type": "display_data"
    }
   ],
   "source": [
    "import scripts.BezierCurve_Interface as bci\n",
    "bci.CurveGraph()"
   ]
  },
  {
   "cell_type": "markdown",
   "id": "73977f7a-4d84-42c4-9d79-8207ad239005",
   "metadata": {},
   "source": [
    "### 4 Point Bézier Curve\n",
    "\n",
    "The one we will be using revolves around four point Bézier Curves, $P_1$, $P_2$, $P_3$ and $P_4$ . To calculate the curve we follow a similar process of interpolating downwards. From 4 point to 3 point to 2 point.\n",
    "\n",
    "To make complex curves with loops or specific sharp curves we can link Bezier Curves together with related points. This is typically done with 4 point curves, $P_1, P_2, P_3, P_4$. 4 point curves allow us the define the tangents of the curve at respectively.   \n",
    "\n",
    "<center><img src=\"figures/4PointBezier.PNG\" width=\"400\"></center>\n",
    "<center>2 Bezier Curves linked together, with the shared point $P_4$, adn related points $P_3,P_5$</center>   \n",
    "<center><font size=\"2\">  Generated from: <a href=\"https://www.desmos.com/calculator/6fdbqfiwuf\">https://www.desmos.com/calculator/6fdbqfiwuf</a> </font></center>   "
   ]
  },
  {
   "cell_type": "markdown",
   "id": "3c99c6ba-0220-495b-9452-664c846024d0",
   "metadata": {},
   "source": [
    "## **Defining a Surface**\n",
    "---\n",
    "We can then take this to higher dimensions. By taking an array of points we can interpolate between them to form a surface. In order to do this we need a few things from the **4 Point Bézier Curve**. Something known as the Bernstein polynomials. We need to expand our Bézier Curve function $C(t)$ to be of the form:\n",
    "\n",
    "\n",
    "$$\\Large C(t) = B_1(t)\\cdot P_1 + B_2(t)\\cdot P_2+ B_3(t)\\cdot P_3+B_4(t)\\cdot P_4$$\n",
    "\n",
    "$$\\Large \n",
    "\\begin{align}\n",
    "B_1(t) &= -t^3+3t^2-3t+1\\\\\n",
    "B_2(t) &= 3t^3-6t^2+3t\\\\\n",
    "B_3(t) &= -3t^3+3t^2\\\\\n",
    "B_4(t) &= t^3\\\\\n",
    "\\end{align}\n",
    "$$\n",
    "\n",
    "Using these polynomials and an array of points we can interpolate between them all. For this we will need two variables $s,t$. We also need to define our points, $P$\n",
    "\n",
    "<center><img src=\"figures/BezierPointArray.PNG\" width=\"400\"></center>\n",
    "\n",
    "We then treat every column as a Bézier Curve, then interpolate between them using the Bernstein Polynomials. The caculation can be simplified to a double summation\n",
    "$$\\Large S(s,t) = \\sum_{i=1}^{4}\\sum_{j=1}^{4}B_i(s)B_j(t)P_{ij}$$\n",
    "\n",
    "<center><img src=\"figures/BezierSurfaceGraph.PNG\" width=\"400\"></center>\n",
    "<center><font size=2>Generated from: <a href=\"https://www.desmos.com/calculator/stwjazdnda\">https://www.desmos.com/calculator/stwjazdnda</a></font></center>\n",
    "\n",
    "If we can string these surfaces together we can form complex shapes, like for instance Canoes\n",
    "\n"
   ]
  },
  {
   "cell_type": "code",
   "execution_count": 1,
   "id": "5194a33c",
   "metadata": {
    "tags": []
   },
   "outputs": [
    {
     "data": {
      "application/vnd.jupyter.widget-view+json": {
       "model_id": "00fb533ffd554bc28aed35193144bd2a",
       "version_major": 2,
       "version_minor": 0
      },
      "text/plain": [
       "interactive(children=(FloatSlider(value=7.0, continuous_update=False, description='length (m)', max=10.0, min=…"
      ]
     },
     "metadata": {},
     "output_type": "display_data"
    }
   ],
   "source": [
    "import scripts.BezierSurf_Interface as bsi #Canoe interface\n",
    "import scripts.Buoyancy_Interface as bi #Buoyancy interface\n",
    "\n",
    "#Loads the widgets into Notebook top level, for access everywhere\n",
    "widgetLength, widgetWidth, widgetHeight, widgetNames = bsi.GetWidgets() \n",
    "\n",
    "#plugs the widgets into Canoe the visualizer\n",
    "bsi.Canoe(widgetLength, widgetWidth, widgetHeight, widgetNames)"
   ]
  },
  {
   "cell_type": "markdown",
   "id": "a1e608bd-8f2f-4407-a6e3-fb8339474d37",
   "metadata": {},
   "source": [
    "## **Buoyancy of our Canoe**\n",
    "---\n",
    "\n",
    "In a related notebook we can use our model of the canoe to accurately determine the buoyancy of it. Normally this is calculated with volume multiplied by some constants to get different forces. With the complexity of the canoes this is not easily achievable, instead we will use the **Divergence Theorem** which will switch our volume calculation with surface normals.\n",
    "\n",
    "Our canoes can be broken up into multiple triangles which will have a surface normal we can use to calculate everything we need. By summing all the triangles we can get the total forces acting on the canoe and balance that with the weight."
   ]
  },
  {
   "cell_type": "code",
   "execution_count": 2,
   "id": "dd6d85b5-f238-424a-9f1b-18919cb50776",
   "metadata": {},
   "outputs": [
    {
     "data": {
      "application/vnd.jupyter.widget-view+json": {
       "model_id": "cae44750727a4c0f8b36c41f41b60b53",
       "version_major": 2,
       "version_minor": 0
      },
      "text/plain": [
       "interactive(children=(FloatSlider(value=7.0, continuous_update=False, description='length (m)', max=10.0, min=…"
      ]
     },
     "metadata": {},
     "output_type": "display_data"
    }
   ],
   "source": [
    "#Same widgets get plugged into Buoyancy graph of canoe. Both models are linked.\n",
    "bi.CanoeBuoyancy(widgetLength, widgetWidth, widgetHeight, widgetNames)"
   ]
  },
  {
   "cell_type": "code",
   "execution_count": null,
   "id": "5bfa3614-c5e8-4183-9156-a208a98c5868",
   "metadata": {},
   "outputs": [],
   "source": []
  }
 ],
 "metadata": {
  "kernelspec": {
   "display_name": "Python 3 (ipykernel)",
   "language": "python",
   "name": "python3"
  },
  "language_info": {
   "codemirror_mode": {
    "name": "ipython",
    "version": 3
   },
   "file_extension": ".py",
   "mimetype": "text/x-python",
   "name": "python",
   "nbconvert_exporter": "python",
   "pygments_lexer": "ipython3",
   "version": "3.9.12"
  }
 },
 "nbformat": 4,
 "nbformat_minor": 5
}
