{
 "cells": [
  {
   "cell_type": "markdown",
   "id": "649b5314-298f-4d2c-aa98-7321cfa2aa40",
   "metadata": {},
   "source": [
    "# Mathematical Modeling of Canoes"
   ]
  },
  {
   "cell_type": "markdown",
   "id": "11c2d3c5-8cc5-42a2-bceb-7a9033d7f134",
   "metadata": {},
   "source": [
    "## Objective\n",
    "In this notebook, we want to develop mathematical equations that represent the complex shape of canoes designed by First Nations people, and use those equations for creating interactive visualizations. Aswell as using these equations to generate data surrounding the canoes."
   ]
  },
  {
   "cell_type": "markdown",
   "id": "ba4a5659-2ed5-4f5b-90e9-e7ba24587694",
   "metadata": {},
   "source": [
    "## Different Types of Canoes\n",
    "\n",
    "Ranging in length from three to twenty metres, canoes were essential for travel, transport, hunting, and trade. Different coastal communities developed distinctive styles to suit their particular needs. The following figures refer to canoes from the First Nations people of the Pacific Northwest Coast who are renowned for their elegantly engineered canoes:"
   ]
  },
  {
   "cell_type": "markdown",
   "id": "3ddeeadd-662c-4194-8e25-918861dd2f38",
   "metadata": {},
   "source": [
    "<img src=\"figures/canoe-design-1.jpeg\" width=\"600\">\n",
    "<center>Canoe designs of the First Nations of the Pacific Northwest--Haida Canoe<center>\n",
    "<p>\n",
    "<font size=\"1\"> \n",
    "image from: <a href=\"https://www.donsmaps.com/images30/canoeimg_1225.jpg\">https://www.donsmaps.com/images30/canoeimg_1225.jpg</a>\n",
    "</font>\n",
    "<p>\n",
    "\n",
    "<img src=\"figures/haida00001a.gif\" width=\"800\">\n",
    "<center>Canoe designs of the First Nations of the Pacific Northwest--Haida Canoe<center>\n",
    "<p>\n",
    "<font size=\"1\"> \n",
    "image from: <a href=\"https://www.donsmaps.com/images30/haida00001a.gif\">https://www.donsmaps.com/images30/haida00001a.gif</a>\n",
    "</font>\n",
    "<p>\n",
    "\n",
    "The above two figures refer to the Haida canoe, while the following figure shows the design specifications for the Salish canoe:\n",
    "\n",
    "<img src=\"figures/salish00001a.gif\" width=\"800\">\n",
    "<center>Canoe designs of the First Nations of the Pacific Northwest--Salish Canoe<center>\n",
    "<p>\n",
    "<font size=\"1\"> \n",
    "image from: <a href=\"https://www.donsmaps.com/images30/salish00001a.gif\">https://www.donsmaps.com/images30/salish00001a.gif</a>\n",
    "</font>\n",
    "<p>\n",
    "\n",
    "Not all canoes have the same complex shape as the above two canoe types. Comprehensive information about the design specifications of other types of canoes can be found [here](https://www.donsmaps.com/canoedesigns.html). Some are included in below:\n",
    "\n",
    "<img src=\"figures/canadiancanoes1sm.jpeg\" width=\"400\">\n",
    "<center>1- Alaskan Eskimo umiak, or open boat, 2- Labrador Eskimo kayak, 3- Dog-rib canoe, 4- Malecite canoe, 5- Algonquin canoe, 6- Montagnais canoe<center>\n",
    "<p>\n",
    "<font size=\"1\"> \n",
    "image from: <a href=\"https://www.donsmaps.com/images27/canadiancanoes1.jpg\">https://www.donsmaps.com/images27/canadiancanoes1.jpg</a>\n",
    "</font>\n",
    "<p>\n",
    "    \n",
    "As the above figures suggest, there is no such thing as one-size-fits-all canoe design. The design directly impacts how canoes hanlde on the water. Some canoes are built for efficiency, i.e. for paddling fast with less effort, and some others are built for maneuverability, i.e. making turns quickly and easily. The following figures show a schematic picture of the shape of canoe from top, side and bottom.\n",
    "\n",
    "<img src=\"figures/canoe-design-diagram-terminology-parts-of-a-canoe-1024x824.png\" width=\"600\">\n",
    "<center>Schematic shape of canoes--top, bottom and side views<center>\n",
    "<p>\n",
    "<font size=\"1\"> \n",
    "image from: <a href=\"https://canoeing.com/wp-content/uploads/2017/01/canoe-design-diagram-terminology-parts-of-a-canoe-1024x824.png\">https://canoeing.com/wp-content/uploads/2017/01/canoe-design-diagram-terminology-parts-of-a-canoe-1024x824.png</a>\n",
    "</font>\n",
    "<p>"
   ]
  },
  {
   "cell_type": "markdown",
   "id": "5c27bf3b-661a-495c-948d-e6a8387ff6f4",
   "metadata": {},
   "source": [
    "## Mathematical Construction with Bézier Curves\n",
    "*draft*\n",
    "\n",
    "The smooth complexity of the canoes design makes it near impossible to assign one equation to define its boundary. However with piece wise approach that takes breaks the canoe into multiple sections we can assign a family of equations that string together multiple surfaces to define the body. For this we will use Bézier Curves, specifically for the 3d surface we will construct a Bézier Curve of the Bézier Curve. \n",
    "\n",
    "A Bézier Curve is a parametric curve $B(t)$ thats defined with control points $P_1,...,P_n$. $B(t)$ defines a smooth continuous curve from $P_1$ to $P_n$ in the respective range $[0,1]$. There a multiple ways to define/ construct Bézier Curves, for this we will go with the visual intuitative approach. To begin we will show a 2 and 3 point curve. \n",
    "\n",
    "### 2 Point Bézier Curve\n",
    "Suppose we have a 2 point Curve between $P_1$ and $P_2$ in order to make a smooth transition from one to the other we would linearly interpolate them. We will let $B(t)$ be the curve defined between them\n",
    "$$B(t) = P_1\\cdot(1-t) + P_2\\cdot(t)$$\n",
    "<center><img src=\"figures/2PointBezier.PNG\" width=\"400\"></center>\n",
    "<center>A 2 point Bézier Curve, refered to as a lerp or linear interpolation</center>   \n",
    "<center><font size=\"2\">  Generated from: <a href=\"https://www.desmos.com/calculator/zxdjavpvkr\">https://www.desmos.com/calculator/zxdjavpvkr</a></font></center>   \n",
    "    \n",
    "### 3 Point Bézier Curve\n",
    "Suppose we have a 3 point Curve between $P_1, P_2$, and $P_3$. We can define the curve $B(t)$ by algorithmically reducing the problem into a 2 Point Curve. Ideally  . We begin by defining $Q_1$ to be the interpolation $P_1$ to$P_2$ by $t$. Then doing the same for $P_2$ to $P_3$, and defining it $Q_2$. Linearly interpolating between $Q_1$ and $Q_2$ will give us a smooth curve from $P_1$ to $P_3$.\n",
    "$$Q_1 = P_1\\cdot(1-t) + P_2\\cdot(t) \\quad\\quad Q_2 = P_2\\cdot(1-t) + P_3\\cdot(t)$$\n",
    "    $$B(t) = Q_1\\cdot(1-t) + Q_2\\cdot(t)$$"
   ]
  },
  {
   "cell_type": "code",
   "execution_count": 1,
   "id": "3197a3bb-0851-41ae-a24b-dde8e38a632b",
   "metadata": {},
   "outputs": [
    {
     "data": {
      "application/vnd.jupyter.widget-view+json": {
       "model_id": "597b863670ca4807acbba78faafb3f66",
       "version_major": 2,
       "version_minor": 0
      },
      "text/plain": [
       "interactive(children=(FloatSlider(value=0.0, description='x', max=5.0, readout=False, step=0.15625, style=Slid…"
      ]
     },
     "metadata": {},
     "output_type": "display_data"
    }
   ],
   "source": [
    "import scripts.BezierCurve_Interface as bci\n",
    "bci.CurveGraph()"
   ]
  },
  {
   "cell_type": "markdown",
   "id": "73977f7a-4d84-42c4-9d79-8207ad239005",
   "metadata": {},
   "source": [
    "In General, for an $n$ Point Curve would work our way down from $n$ points, to $2$ points.\n",
    "\n",
    "## Stringing Together Bézier Curves\n",
    "*Still sketching out the draft*\n",
    "\n",
    "To make complex curves with loops or specific sharp curve we can link Bezier Curves together with related points. This is typically done with 4 point curves, $P_1, P_2, P_3, P_4$. 4 point curves allow us the define the tangents of the curve at $P_1$, and $P_4$ using both $P_2$ and $P_3$ respectively.   \n",
    "\n",
    "<center><img src=\"figures/Two 4 point curves.PNG\" width=\"400\"></center>\n",
    "<center>2 Bezier Curves linked together, with the shared point $P_4$, adn related points $P_3,P_5$</center>   \n",
    "<center><font size=\"2\">  Generated from: <a href=\"https://www.desmos.com/calculator/mtalpjk1qv\">https://www.desmos.com/calculator/mtalpjk1qv</a> </font></center>   \n",
    "\n",
    "\n",
    "## Defining a Surface\n",
    "We can then take this higher and ask, what if we interpolate the points themselves, then we've defined an $s,t$ surface. \n",
    "\n",
    "**{Picture with the U and V control points, and s and t positions}**\n",
    "\n",
    "By stringing together these surfaces we can create any smooth shape canoe, that can then be paramaterized. We can change the length, the height, and width. There are other parameterizations we could do but it would start to mess with the actual shape of the canoe causing unwanted effects. "
   ]
  },
  {
   "cell_type": "code",
   "execution_count": 2,
   "id": "5194a33c",
   "metadata": {
    "tags": []
   },
   "outputs": [
    {
     "data": {
      "application/vnd.jupyter.widget-view+json": {
       "model_id": "c94554db6e824133a7614368070ee596",
       "version_major": 2,
       "version_minor": 0
      },
      "text/plain": [
       "interactive(children=(FloatSlider(value=7.687, continuous_update=False, description='length (m)', max=10.0, mi…"
      ]
     },
     "metadata": {},
     "output_type": "display_data"
    }
   ],
   "source": [
    "import scripts.BezierSurf_Interface as bsi #Canoe interface\n",
    "import scripts.Buoyancy_Interface as bi #Buoyancy interface\n",
    "\n",
    "#Loads the widgets into Notebook top level, for access everywhere\n",
    "widgetLength, widgetWidth, widgetHeight, widgetNames = bsi.GetWidgets() \n",
    "\n",
    "#plugs the widgets into Canoe Visualizer\n",
    "bsi.Canoe(widgetLength, widgetWidth, widgetHeight, widgetNames)"
   ]
  },
  {
   "cell_type": "markdown",
   "id": "a1e608bd-8f2f-4407-a6e3-fb8339474d37",
   "metadata": {},
   "source": [
    "## Buoyancy of our Canoe\n",
    "\n",
    "In a related notebook we can use our model of the canoe to accurately determine the buoyancy/ float\n",
    "\n",
    "**Will recycle some of the work in the canoe-buoyancy notebook**"
   ]
  },
  {
   "cell_type": "code",
   "execution_count": 3,
   "id": "dd6d85b5-f238-424a-9f1b-18919cb50776",
   "metadata": {},
   "outputs": [
    {
     "data": {
      "application/vnd.jupyter.widget-view+json": {
       "model_id": "bc607823a33c4d4ca278ff5f843eed21",
       "version_major": 2,
       "version_minor": 0
      },
      "text/plain": [
       "interactive(children=(FloatSlider(value=7.687, continuous_update=False, description='length (m)', max=10.0, mi…"
      ]
     },
     "metadata": {},
     "output_type": "display_data"
    }
   ],
   "source": [
    "#Same widgets get plugged into Buoyancy graph of canoe. Both models are linked.\n",
    "bi.CanoeBuoyancy(widgetLength, widgetWidth, widgetHeight, widgetNames)"
   ]
  },
  {
   "cell_type": "code",
   "execution_count": 4,
   "id": "3a983577-409a-4462-a9c1-75909f94fe11",
   "metadata": {},
   "outputs": [],
   "source": [
    "#Design document.\n",
    "#last: work needed for making a canoe model, for feeback and stuff."
   ]
  }
 ],
 "metadata": {
  "kernelspec": {
   "display_name": "Python 3 (ipykernel)",
   "language": "python",
   "name": "python3"
  },
  "language_info": {
   "codemirror_mode": {
    "name": "ipython",
    "version": 3
   },
   "file_extension": ".py",
   "mimetype": "text/x-python",
   "name": "python",
   "nbconvert_exporter": "python",
   "pygments_lexer": "ipython3",
   "version": "3.9.12"
  }
 },
 "nbformat": 4,
 "nbformat_minor": 5
}
