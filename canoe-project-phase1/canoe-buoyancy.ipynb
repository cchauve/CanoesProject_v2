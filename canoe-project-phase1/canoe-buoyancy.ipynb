{
 "cells": [
  {
   "cell_type": "markdown",
   "id": "fc0f3558-e7e9-48d0-9fd0-ae4012cf8e5d",
   "metadata": {},
   "source": [
    "# Static Stability of Canoes in Water\n",
    "## Buoyancy force and submergence depth\n",
    "---\n",
    "\n",
    "### Simple Case\n",
    "\n",
    "In order to introduce the concept of buoyancy and how it can be used to calculate submergence depth, we consider the simple model of a cuboid block partly submerged in hydrostatic (still) water:\n",
    "\n",
    "<p><center> \n",
    "<img src=\"figures/B_fig01.png\" width=\"300\">\n",
    "</center></p> \n",
    "\n",
    "A cuboid with volume $V_c$ and submerged volume $V_w$. If we let $D_c$ and $D_w$ be the densities (mass per unit volume) of the cube and water, we can determine their respective masses. The mass $M_c$ and $M_w$ can be calculated as follows: \n",
    "\n",
    "$$\n",
    "M_c = V_c \\cdot D_c \\quad\\quad\\quad M_w = V_w \\cdot D_w\n",
    "$$\n",
    "\n",
    "Applying Archimedes' principle to our model, the bouyancy force is equivalent to the water's displaced mass multiplied by gravity. We should also note the force of gravity acting on our cube is its mass multiplied by gravity. We calculate the forces $F_g$ and $F_b$ acting on our cube.\n",
    "\n",
    "$$\n",
    "F_g = - M_c \\cdot g \\quad\\quad\\quad F_b = M_w \\cdot g\n",
    "$$\n",
    "\n",
    "The total sum of forces will be our measure of if the cube will sink or rise. Positive will be treated as rising up, negative will be treated as sinking deeper with respect to the signed orientation of the forces. \n"
   ]
  },
  {
   "cell_type": "code",
   "execution_count": 1,
   "id": "abcf666e-242d-4a9c-8f83-92018fd2ea91",
   "metadata": {},
   "outputs": [
    {
     "data": {
      "application/vnd.jupyter.widget-view+json": {
       "model_id": "dd75202f0dc24d288f1b7561ef164be4",
       "version_major": 2,
       "version_minor": 0
      },
      "text/plain": [
       "TwoByTwoLayout(children=(FloatSlider(value=1.0, continuous_update=False, description='length (m): ', layout=La…"
      ]
     },
     "metadata": {},
     "output_type": "display_data"
    },
    {
     "data": {
      "application/vnd.jupyter.widget-view+json": {
       "model_id": "64c74741c2ec48f4ba886d8fbd42e5d7",
       "version_major": 2,
       "version_minor": 0
      },
      "text/plain": [
       "Output()"
      ]
     },
     "metadata": {},
     "output_type": "display_data"
    }
   ],
   "source": [
    "import scripts.buoyancy_interface as bi \n",
    "bi.CubeGraph()"
   ]
  },
  {
   "cell_type": "markdown",
   "id": "d1dd20b3-b494-4c98-931c-aee66bf1f73f",
   "metadata": {},
   "source": [
    "<font size = \"2\"> \\*Arrow in graph is not to scale\\*</font>$\\\\\\\\$\n",
    "\n",
    "You may notice there exists a point where the total force equals zero. This is know as the buoyancy equilibrium or neutral buoyancy zone. It is where the object will neither sink or rise, as the force of gravity and buoyancy are equal in magnitude and cancel eachother out. For our simple cube model we can calculate the depth where this can happen.\n",
    "\n",
    "To set the ideal, we want $F_b + F_c = 0$, rearranging and expanding gives us:\n",
    "\n",
    "$$\n",
    "\\begin{align}\n",
    "g\\cdot V_c\\cdot D_c & = g\\cdot V_w \\cdot D_w \\\\\n",
    "(\\text{length} \\cdot \\text{width} \\cdot \\text{height}) \\cdot D_c & =  (\\text{length} \\cdot \\text{width} \\cdot \\text{water depth}) \\cdot D_w \\\\\n",
    "\\text{height} \\cdot \\frac{ D_c}{D_w} & = \\text{water depth}\n",
    "\\end{align}\n",
    "$$\n",
    "\n",
    "We see that the equilibrium point is a ratio between the density of the cube and water, multiplied by the total height of the cube. \n",
    "\n",
    "However this calculation only cancels out nicely because of the simple linear relation between height and volume. Real world objects, or anything curvy presents a challenge to the volume definition where the relations can be non linear. This volume method is only good for simple cases where volume can be easily defined or approximated efficiently."
   ]
  },
  {
   "cell_type": "markdown",
   "id": "968845f8-b959-47dc-8d99-c7fc826413c9",
   "metadata": {
    "tags": []
   },
   "source": [
    "---\n",
    "### General case\n",
    "\n",
    "The volume and weight method is an intuiative approach to finding buoyancy, however calculating the submerged volume of an object isn't always easy. In order to rectify this problem we can use an important theorem in calculus called Gauss's Theorem or Divergence Theorem. It changes our problem of finding volume to one of summing over certain values along the surface of our object. Though it is more complex in nature, the calculation is more friendly to approximations. \n",
    "\n",
    "<p><em>The volume integral of the divergence of a vector field, taken throughout a bounded domain $D$, equals the surface integral of the normal componenet of the vector field taken over the surface $S$ bounding $D$</em></p>\n",
    "$$\n",
    "\\int\\int\\int_D \\triangledown \\cdot \\mathbf{F} \\text{ d}D = \\int\\int_S \\mathbf{F}\\cdot n \\text{ d}S\n",
    "$$\n",
    "Heavy jargon aside, and to put this into terms we can understand. \n",
    "\n",
    "#### The left side\n",
    "The left side's triple integral of $\\triangledown \\cdot \\mathbf{F}$ is equivalent to summing up every unit volume multiplied by the change in $F$. For our scenario of hydrostatic water, this $F$ which is pressure, increases linearly as we go deeper. Using calculus we know that linear functions have a constant rate of change, meaning we can simplify. \n",
    "\n",
    "$$\n",
    "\\begin{align}\n",
    "\\int\\int\\int_D \\triangledown \\cdot \\mathbf{F} \\text{ d}D &= C\\cdot \\int\\int\\int_D \\text{ d}D \\\\\n",
    "&= C\\cdot (Volume)\\\\\n",
    "\\end{align}\n",
    "$$\n",
    "\n",
    "The change in pressure $C$ is equal to **density** times **gravity**. This is our simple case of using volume to determine the bouyancy force. \n",
    "\n",
    "$$\n",
    "\\int\\int_S \\mathbf{F}\\cdot n \\text{ d}S\n",
    "$$\n",
    "This right side takes every normal vector $n$ along the surface and multiplies it by the $F$ at that point. After which it sums it all up.\n",
    "As stated before $F$ is our pressure, which increases linearly as we go deeper. This increase can be felt by anyone who has swam too deep in a pool, or felt lack of pressure when on a flight where you've had your ears \"pop\". \n",
    "\n",
    "<p><center>\n",
    "    <img src=\"figures/B_fig02.png\" width=\"600\">\n",
    "</center></p>\n",
    "<font size = \"2\"><center>\n",
    "    The left cube is the volume method, right cube is the normals method\n",
    "</center></font>\n",
    "\n",
    "The right cube depicts the vectors (arrows) that will be summed up which have been scaled linearly, based on their depth.\n",
    "\n"
   ]
  },
  {
   "cell_type": "markdown",
   "id": "94bde193-58de-452c-9429-3212d1be55f8",
   "metadata": {
    "tags": []
   },
   "source": [
    "#### General Case Approximation method\n",
    "This method allows us to easily approximate the equilibrium of any model by partitioning their surface into small squares. Nearly all objects can be made up of these squares/ quads. This allows us to gather that neccesary data for our approximation. We can store the positions, normals, and areas in a table and use them to calculate the $F\\cdot n$ part for each square. Using the area we can properly scale each vector to converge on a final summed force. Saving the data like this allows us to reuse as many times as we see fit. Adjusting how $F$ changes depending on the position of our points can allows us to get multiple different results.\n",
    "\n",
    "<p><center>\n",
    "    <img src=\"figures/B_fig03.png\" width=\"300\">\n",
    "</center></p>\n",
    "\n",
    "| <center><font size=\"3.5\">position</font>   | <center><font size=\"3.5\">normal</font> | <center><font size=\"3.5\">area</font> |\n",
    "| --- | --- | --- |\n",
    "| <center><font size=\"3.5\">[0.1, -0.2, -3]</font></center> | <center><font size=\"3.5\">[0, 0.5, 0.866]</font></center> | <center><font size=\"3.5\">0.05</font></center> | \n",
    "| <center><font size=\"3.5\">[0.2, -0.3, -3.6]</font></center> | <center><font size=\"3.5\">[0, 0.6, 0.8]</font></center> | <center><font size=\"3.5\">0.087</font></center> | \n",
    "| <center><font size=\"3.5\">$\\vdots$</font></center> | <center><font size=\"3.5\">$\\vdots$</font></center> | <center><font size=\"3.5\">$\\vdots$</font></center> |\n",
    "\n",
    "<font size = \"2\"><center>\n",
    "This is a short example table of elements\n",
    "</center></font>\n",
    "\n",
    "    \n",
    "$$\n",
    "\\sum (position.z \\cdot D_w \\cdot g) \\cdot (normal) \\cdot (area) = F_b\n",
    "$$\n",
    "    \n",
    "This is a fairly inexpensive operation. We can calculate $F_b$ for multiple depths allowing us to search for the equilibrium level using brute force methods. For our algorithm we used binary search, by taking the top and bottom of our canoe (plus some) as bounds to search through, we start at the center. We can determine if the total summed force with gravity and bouyancy is positive or negative. Then cut our search interval in half appropriately and repeat starting at the new center. This simple method can approach the equilibrium fairly quickly. \n",
    "\n",
    "There are more complex search methods that approach faster, but for simplicity we have used a fairly approachable method."
   ]
  },
  {
   "cell_type": "code",
   "execution_count": 2,
   "id": "65182b96-bba8-467f-a64f-484f1af3f650",
   "metadata": {},
   "outputs": [
    {
     "data": {
      "application/vnd.jupyter.widget-view+json": {
       "model_id": "c4cf62b03d844760b558a365c0c52c81",
       "version_major": 2,
       "version_minor": 0
      },
      "text/plain": [
       "GridspecLayout(children=(FloatSlider(value=4.0, continuous_update=False, description='length (m)', layout=Layo…"
      ]
     },
     "metadata": {},
     "output_type": "display_data"
    },
    {
     "data": {
      "application/vnd.jupyter.widget-view+json": {
       "model_id": "d01735f61afd457e9621b724b44f4378",
       "version_major": 2,
       "version_minor": 0
      },
      "text/plain": [
       "Output()"
      ]
     },
     "metadata": {},
     "output_type": "display_data"
    }
   ],
   "source": [
    "bi.CanoeGraph() "
   ]
  },
  {
   "cell_type": "markdown",
   "id": "331f523e-263a-486e-8d92-a314b77ea8cf",
   "metadata": {},
   "source": [
    "# Citation\n",
    "```{bibliography}\n",
    "\n",
    "Davis, H. F., &amp; Snider, A. D. (2000). 4.9 Introduction to the Divergence Theorem and Stokes' Theorem. In Introduction to vector analysis (Seventh, pp. 257–257). essay, Hawkes Publishing. \n",
    "\n",
    "Lima, F. M. (2011). Using surface integrals for checking Archimedes' law of buoyancy. European Journal of Physics, 33(1), 101–113. https://doi.org/10.1088/0143-0807/33/1/009 \n",
    "````"
   ]
  }
 ],
 "metadata": {
  "kernelspec": {
   "display_name": "Python 3 (ipykernel)",
   "language": "python",
   "name": "python3"
  },
  "language_info": {
   "codemirror_mode": {
    "name": "ipython",
    "version": 3
   },
   "file_extension": ".py",
   "mimetype": "text/x-python",
   "name": "python",
   "nbconvert_exporter": "python",
   "pygments_lexer": "ipython3",
   "version": "3.9.12"
  }
 },
 "nbformat": 4,
 "nbformat_minor": 5
}
