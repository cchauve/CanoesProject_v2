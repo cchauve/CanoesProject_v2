{
 "cells": [
  {
   "cell_type": "markdown",
   "id": "fc0f3558-e7e9-48d0-9fd0-ae4012cf8e5d",
   "metadata": {},
   "source": [
    "# Static Stability of Canoes in Water\n",
    "## Buoyancy force and submergence depth\n",
    "---\n",
    "\n",
    "### Simple Case\n",
    "\n",
    "In order to introduce the concept of buoyancy and how it can be used to calculate submergence depth, we consider the simple model of a cuboid block partly submerged in hydrostatic (still) water:\n",
    "\n",
    "<p><center> \n",
    "<img src=\"figures/B_fig01.png\" width=\"300\">\n",
    "</center></p> \n",
    "\n",
    "A cuboid with volume $V_c$ and submerged volume $V_w$. We can then determine the mass of our cube and water by multiplying their respective volumes with their densities, mass per unit volume. Let $D_c$ and $D_w$ be the densities of the cube and water. Then the mass $M_c$ and $M_w$ can be calculated as follows: \n",
    "\n",
    "$$\n",
    "M_c = V_c \\cdot D_c \\quad\\quad\\quad M_w = V_w \\cdot D_w\n",
    "$$\n",
    "\n",
    "Using Archimedes' principle, the bouyancy force is equivalent to the water's displaced weight multiplied by gravity. We should also note the force of gravity acting on our cube its mass multiplied by gravity. We calculate the forces $F_g$ and $F_b$ acting on our cube.\n",
    "\n",
    "$$\n",
    "F_g = - M_c \\cdot g \\quad\\quad\\quad F_b = M_w \\cdot g\n",
    "$$\n",
    "\n",
    "The total sum of forces is our measure of if the cube will sink or rise, where positive will be treated as rising up, negative will be treated as sinking deeper. \n"
   ]
  },
  {
   "cell_type": "code",
   "execution_count": 1,
   "id": "abcf666e-242d-4a9c-8f83-92018fd2ea91",
   "metadata": {},
   "outputs": [
    {
     "data": {
      "application/vnd.jupyter.widget-view+json": {
       "model_id": "f0399f4f45a6480d9ca29396ace0c8ab",
       "version_major": 2,
       "version_minor": 0
      },
      "text/plain": [
       "interactive(children=(FloatSlider(value=0.0, description='waterHeight', max=1.0, step=0.0009765625), Output())…"
      ]
     },
     "metadata": {},
     "output_type": "display_data"
    }
   ],
   "source": [
    "import scripts.buoyancy_interface as bi #might be fine to have in the same cell\n",
    "bi.WaterLevelCubeGraph(length = 1.2, depth = 0.125, height = 1, density = 500, resolution = 1024) #add a little arrow in the future to help visualize force"
   ]
  },
  {
   "cell_type": "markdown",
   "id": "d1dd20b3-b494-4c98-931c-aee66bf1f73f",
   "metadata": {},
   "source": [
    "You may notice there exists a point where the totale force equals zero. This is know as the buoyancy equilibrium or neutral buoyancy. It is where the object will neither sink or rise, as the force of gravity and buoyancy are equal in magnitude and cancel eachother out. For our simple cube model we can calculate the depth where this can happen.\n",
    "\n",
    "We ideally $F_b + F_c = 0$, rearranging and expanding gives us:\n",
    "\n",
    "$$\n",
    "\\begin{align}\n",
    "g\\cdot V_c\\cdot D_c & = g\\cdot V_w \\cdot D_w \\\\\n",
    "(\\text{length} \\cdot \\text{width} \\cdot \\text{height}) \\cdot D_c & =  (\\text{length} \\cdot \\text{width} \\cdot \\text{water depth}) \\cdot D_w \\\\\n",
    "\\text{height} \\cdot \\frac{ D_c}{D_w} & = \\text{water depth}\n",
    "\\end{align}\n",
    "$$"
   ]
  },
  {
   "cell_type": "code",
   "execution_count": 2,
   "id": "8b663790-52a6-46c3-95bb-fbf2a4c9044d",
   "metadata": {},
   "outputs": [
    {
     "data": {
      "application/vnd.jupyter.widget-view+json": {
       "model_id": "d0148d0d1b6e450585f6b8f0f20bb5c3",
       "version_major": 2,
       "version_minor": 0
      },
      "text/plain": [
       "interactive(children=(FloatSlider(value=497.5263671875, description='density', max=997.0, step=0.9736328125), …"
      ]
     },
     "metadata": {},
     "output_type": "display_data"
    }
   ],
   "source": [
    "bi.EquilibriumCubeGraph(length = 1, depth = 1, height = 1, resolution = 1024)"
   ]
  },
  {
   "cell_type": "markdown",
   "id": "968845f8-b959-47dc-8d99-c7fc826413c9",
   "metadata": {
    "tags": []
   },
   "source": [
    "---\n",
    "### General case\n",
    "\n",
    "The volume and weight approach is an intuiative approach to calculating buoyancy, however calculating the submerged volume of an object isnt always easy. In order to rectify this problem we can use an important theorem in calculus called the Gauss's theorem or divergence theorem. It changes our problem of finding volume to one of summing over certain values over the surface of our object, as well as including the depth at each point. \n",
    "\n",
    "<p><em>The volume integral of the divergence of a vector field, taken throughout a bounded domain $D$, equals the surface integral of the normal componenet of the vector field taken over the surface $S$ bounding $D$</em></p>\n",
    "$$\n",
    "\\int\\int\\int_D \\triangledown \\cdot \\mathbf{F} \\text{ d}D = \\int\\int_S \\mathbf{F}\\cdot n \\text{ d}S\n",
    "$$\n",
    "Heavy jargon aside, and to put this into terms we can understand. \n",
    "\n",
    "The left side's triple integral of $\\triangledown \\cdot \\mathbf{F}$ is equivalent to summing up every unit volume multiplied by the change in pressure $F$ as you go deeper. This pressure changes linearly giving us a constant rate of change, this simplifies to density times gravity all multiplied by the volume of water displaced. This is our simple case, but cut up into infinitely small pieces. \n",
    "\n",
    "$$\n",
    "\\int\\int\\int_{V_w} \\triangledown \\cdot \\mathbf{F} \\text{ d}V_w =  V_w \\cdot D_w \\cdot g\n",
    "$$\n",
    "\n",
    "The right side is the sum of every normal vector $n$, along the surface of the water displaced, multiplied by the linear increasing water pressure $F$ as you go deeper. \n",
    "\n",
    "<p><center>\n",
    "    <img src=\"figures/B_fig02.png\" width=\"600\">\n",
    "</center></p>\n",
    "<font size = \"2\"><center>\n",
    "    The left cube is the volume method, right cube is the normals method\n",
    "</center></font>\n",
    "\n",
    "\n"
   ]
  },
  {
   "cell_type": "markdown",
   "id": "01b8818d-19a4-4fa8-b3c2-51ffbba4e01c",
   "metadata": {},
   "source": [
    "**[CELL FOR GRAPHING APPLET FOR ROTATED CUBE]**"
   ]
  },
  {
   "cell_type": "markdown",
   "id": "94bde193-58de-452c-9429-3212d1be55f8",
   "metadata": {},
   "source": [
    "#### General Case Approximation method\n",
    "This method also allows us to easily approximate the equilibrium of any model as the surface is what most defines them. Any 3D surface can be represented by a set of triangle, or square faces. We can use those to create our own list of normals, accompanied by their current vertical position (based on the water) and face area.\n",
    "\n",
    "**[Diagram with surface, and THE list]**\n",
    "\n",
    "We can then sum over this list by using the depth to determine how much to scale each normal to determine the pressure, then use our area to determine the force acting on that point. Adding everything together gets us the total force's acting on our object. This is fairly inexpensive so we can afford to do this calculation multiple times to search for a depth that is close, if not is the Buoyancy equilibrium level. \n",
    "\n",
    "The searching process we will use is binary search. There are other more complex methods, but for simplicity we will use an easy to understand method. [Explain quickly how binary search works]\n",
    "\n",
    "We now have everything we need to determine the equilibrium level of our canoe."
   ]
  },
  {
   "cell_type": "markdown",
   "id": "3ca7db93-0d4f-4f7e-9b6c-0a9aac98d975",
   "metadata": {},
   "source": [
    "**[CELL FOR GRAPHING, slider for trying different weights and a line that shows where the float line is. Maybe plot of canoe, side view [static]]**"
   ]
  },
  {
   "cell_type": "markdown",
   "id": "027d315e-9315-4bd7-9c7d-223638bd6570",
   "metadata": {},
   "source": [
    "Conclusion part read other the other notebooks to see how they do theres and check with prof for any informations"
   ]
  },
  {
   "cell_type": "markdown",
   "id": "331f523e-263a-486e-8d92-a314b77ea8cf",
   "metadata": {},
   "source": [
    "# Citation\n",
    "\n",
    "very crude at the moment, will include proper later, \n",
    "\n",
    "\n",
    "still trying to find a suitable citation for Mahdads works that I've grossily simplified.\n",
    "\n",
    "Used Introduction to Vector Analysis, Harry F. Davis $\\cdot$ A. David Snider, seventh edition. For Divergence theorem. "
   ]
  },
  {
   "cell_type": "code",
   "execution_count": null,
   "id": "d5d58bd8-9475-429b-9925-491f8139ec89",
   "metadata": {},
   "outputs": [],
   "source": []
  },
  {
   "cell_type": "code",
   "execution_count": 1,
   "id": "7ee3987a-a558-4a0c-9db5-6504e4a0f3c1",
   "metadata": {},
   "outputs": [
    {
     "data": {
      "application/vnd.jupyter.widget-view+json": {
       "model_id": "c342eda8a58749b18d1b6dd4081002ab",
       "version_major": 2,
       "version_minor": 0
      },
      "text/plain": [
       "interactive(children=(FloatSlider(value=1.5707963267948966, description='theta', max=3.141592653589793), Outpu…"
      ]
     },
     "metadata": {},
     "output_type": "display_data"
    }
   ],
   "source": [
    "import scripts.buoyancy_interface as bi #might be fine to have in the same cell\n",
    "bi.RotatedCubeGraph()"
   ]
  },
  {
   "cell_type": "code",
   "execution_count": null,
   "id": "871502a1-93c3-4c06-a07f-424c4792b019",
   "metadata": {},
   "outputs": [],
   "source": []
  },
  {
   "cell_type": "code",
   "execution_count": null,
   "id": "ea21ff3c-9267-4999-b1b4-61d8d67c5648",
   "metadata": {},
   "outputs": [],
   "source": []
  }
 ],
 "metadata": {
  "kernelspec": {
   "display_name": "Python 3 (ipykernel)",
   "language": "python",
   "name": "python3"
  },
  "language_info": {
   "codemirror_mode": {
    "name": "ipython",
    "version": 3
   },
   "file_extension": ".py",
   "mimetype": "text/x-python",
   "name": "python",
   "nbconvert_exporter": "python",
   "pygments_lexer": "ipython3",
   "version": "3.9.12"
  }
 },
 "nbformat": 4,
 "nbformat_minor": 5
}
