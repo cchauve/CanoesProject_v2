{
 "cells": [
  {
   "cell_type": "code",
   "execution_count": null,
   "id": "200295ab",
   "metadata": {},
   "outputs": [],
   "source": [
    "import panel as pn\n",
    "from scripts.visualization import plot_canoe"
   ]
  },
  {
   "cell_type": "code",
   "execution_count": null,
   "id": "c92e53a4",
   "metadata": {},
   "outputs": [],
   "source": [
    "pn.extension()\n",
    "slider=[0,0,0,0,0];\n",
    "slider[0]=pn.widgets.IntSlider(name='type', start=1, end=3)\n",
    "slider[1]=pn.widgets.RangeSlider(name='Width', start=1, end=10, step=0.1)\n",
    "slider[2]=pn.widgets.RangeSlider(name='Height', start=1, end=10, step=0.1)\n",
    "slider[3]=pn.widgets.RangeSlider(name='Length', start=1, end=10, step=0.1)\n",
    "slider[4]=pn.widgets.RangeSlider(name='Corner Radius', start=1, end=10, step=0.1)\n",
    "display(slider[0], slider[1], slider[2], slider[3], slider[4])"
   ]
  },
  {
   "cell_type": "code",
   "execution_count": null,
   "id": "f0c4f37f",
   "metadata": {},
   "outputs": [],
   "source": [
    "canoe_type=slider[0].value\n",
    "width=[slider[1].value[0], slider[1].value[1]]\n",
    "height=[slider[2].value[0], slider[2].value[1]]\n",
    "length=[slider[3].value[0], slider[3].value[1]]\n",
    "corner_radius=[slider[4].value[0], slider[4].value[1]]\n",
    "plot_canoe(width, height, length, corner_radius, canoe_type)"
   ]
  }
 ],
 "metadata": {
  "kernelspec": {
   "display_name": "Python 3 (ipykernel)",
   "language": "python",
   "name": "python3"
  },
  "language_info": {
   "codemirror_mode": {
    "name": "ipython",
    "version": 3
   },
   "file_extension": ".py",
   "mimetype": "text/x-python",
   "name": "python",
   "nbconvert_exporter": "python",
   "pygments_lexer": "ipython3",
   "version": "3.9.12"
  }
 },
 "nbformat": 4,
 "nbformat_minor": 5
}
