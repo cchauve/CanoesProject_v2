{
 "cells": [
  {
   "cell_type": "code",
   "execution_count": null,
   "id": "0eb1ccaf",
   "metadata": {},
   "outputs": [],
   "source": [
    "import panel as pn\n",
    "from scripts.visualization import plot_canoe"
   ]
  },
  {
   "cell_type": "markdown",
   "id": "6f775ca9",
   "metadata": {},
   "source": [
    "## Define canoe type, width range, height range, length range, and corner radius range.\n",
    "\n",
    "#### Canoe Type\n",
    "There are 3 canoe types. \n",
    "\n",
    "Canoe type 1 approximates the cross-section of the canoe in width direction and height direction as a half-ellipse, and approximates the cross-section of the top part of the canoe in width direction and length direction as an ellipse.\n",
    "\n",
    "Canoe type 2 makes same approximation as canoe type 1 for the cross-section of the canoe in width direction and height direction. This canoe type approximates the cross-section of the canoe in width direction and length direction as a half-ellipse.\n",
    "\n",
    "Canoe type 3 approximate the longitudinal cross-section of the canoe as a half rectircle (rectangle with circular corners) with a given corner radius for width direction and length direction. This canoe type approximates the cross-section of the canoe in width direction and length direction as a half-ellipse. \n",
    "\n",
    "#### Height\n",
    "Top part of the canoe shows up at 0m point. Function makes the canoe with given height input in negative direction.\n",
    "#### Width\n",
    "Canoe is centered at 0m point. Given an input of Xm in width, the canoe has width of Xm in positive and negative directions.\n",
    "#### Length\n",
    "Canoe is centered at 0m point. Given an input of Xm in length, the canoe has width of Xm in positive and negative directions.\n",
    "#### Corner Radius\n",
    "This number is only used for canoe type 3. "
   ]
  },
  {
   "cell_type": "code",
   "execution_count": null,
   "id": "c92e53a4",
   "metadata": {},
   "outputs": [],
   "source": [
    "pn.extension()\n",
    "slider=[0,0,0,0,0];\n",
    "slider[0]=pn.widgets.IntSlider(name='Type', start=1, end=3)\n",
    "slider[1]=pn.widgets.RangeSlider(name='Width Range', start=1, end=10, step=0.1)\n",
    "slider[2]=pn.widgets.RangeSlider(name='Height Range', start=1, end=10, step=0.1)\n",
    "slider[3]=pn.widgets.RangeSlider(name='Length Range', start=1, end=10, step=0.1)\n",
    "slider[4]=pn.widgets.RangeSlider(name='Corner Radius Range', start=1, end=10, step=0.1)\n",
    "display(slider[0], slider[1], slider[2], slider[3], slider[4])"
   ]
  },
  {
   "cell_type": "code",
   "execution_count": null,
   "id": "6a201b3e",
   "metadata": {},
   "outputs": [],
   "source": [
    "canoe_type=slider[0].value\n",
    "width=[slider[1].value[0], slider[1].value[1]]\n",
    "height=[slider[2].value[0], slider[2].value[1]]\n",
    "length=[slider[3].value[0], slider[3].value[1]]\n",
    "corner_radius=[slider[4].value[0], slider[4].value[1]]\n",
    "plot_canoe(width, height, length, corner_radius, canoe_type)"
   ]
  }
 ],
 "metadata": {
  "kernelspec": {
   "display_name": "Python 3 (ipykernel)",
   "language": "python",
   "name": "python3"
  },
  "language_info": {
   "codemirror_mode": {
    "name": "ipython",
    "version": 3
   },
   "file_extension": ".py",
   "mimetype": "text/x-python",
   "name": "python",
   "nbconvert_exporter": "python",
   "pygments_lexer": "ipython3",
   "version": "3.9.12"
  }
 },
 "nbformat": 4,
 "nbformat_minor": 5
}
