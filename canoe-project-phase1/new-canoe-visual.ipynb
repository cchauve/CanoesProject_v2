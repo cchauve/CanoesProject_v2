{
 "cells": [
  {
   "cell_type": "markdown",
   "id": "649b5314-298f-4d2c-aa98-7321cfa2aa40",
   "metadata": {},
   "source": [
    "# Mathematical Modeling of Canoes"
   ]
  },
  {
   "cell_type": "markdown",
   "id": "11c2d3c5-8cc5-42a2-bceb-7a9033d7f134",
   "metadata": {},
   "source": [
    "## Objective\n",
    "In this notebook, we want to develop mathematical equations that represent the complex shape of canoes designed by First Nations people, and use those equations for creating interactive visualizations."
   ]
  },
  {
   "cell_type": "markdown",
   "id": "ba4a5659-2ed5-4f5b-90e9-e7ba24587694",
   "metadata": {},
   "source": [
    "## Different Types of Canoes\n",
    "\n",
    "Ranging in length from three to twenty metres, canoes were essential for travel, transport, hunting, and trade. Different coastal communities developed distinctive styles to suit their particular needs. The following figures refer to canoes from the First Nations people of the Pacific Northwest Coast who are renowned for their elegantly engineered canoes:"
   ]
  },
  {
   "cell_type": "markdown",
   "id": "3ddeeadd-662c-4194-8e25-918861dd2f38",
   "metadata": {},
   "source": [
    "<img src=\"figures/canoe-design-1.jpeg\" width=\"600\">\n",
    "<center>Canoe designs of the First Nations of the Pacific Northwest--Haida Canoe<center>\n",
    "<p>\n",
    "<font size=\"1\"> \n",
    "image from: https://www.donsmaps.com/images30/canoeimg_1225.jpg\n",
    "</font>\n",
    "<p>\n",
    "\n",
    "<img src=\"figures/haida00001a.gif\" width=\"800\">\n",
    "<center>Canoe designs of the First Nations of the Pacific Northwest--Haida Canoe<center>\n",
    "<p>\n",
    "<font size=\"1\"> \n",
    "image from: https://www.donsmaps.com/images30/haida00001a.gif\n",
    "</font>\n",
    "<p>\n",
    "\n",
    "The above two figures refer to the Haida canoe, while the following figure shows the design specifications for the Salish canoe:\n",
    "\n",
    "<img src=\"figures/salish00001a.gif\" width=\"800\">\n",
    "<center>Canoe designs of the First Nations of the Pacific Northwest--Salish Canoe<center>\n",
    "<p>\n",
    "<font size=\"1\"> \n",
    "image from: https://www.donsmaps.com/images30/salish00001a.gif\n",
    "</font>\n",
    "<p>\n",
    "\n",
    "Not all canoes have the same complex shape as the above two canoe types. Comprehensive information about the design specifications of other types of canoes can be found [here](https://www.donsmaps.com/canoedesigns.html). Some are included in below:\n",
    "\n",
    "<img src=\"figures/canadiancanoes1sm.jpeg\" width=\"400\">\n",
    "<center>1- Alaskan Eskimo umiak, or open boat, 2- Labrador Eskimo kayak, 3- Dog-rib canoe, 4- Malecite canoe, 5- Algonquin canoe, 6- Montagnais canoe<center>\n",
    "<p>\n",
    "<font size=\"1\"> \n",
    "image from: https://www.donsmaps.com/images27/canadiancanoes1.jpg\n",
    "</font>\n",
    "<p>\n",
    "    \n",
    "As the above figures suggest, there is no such thing as one-size-fits-all canoe design. The design directly impacts how canoes hanlde on the water. Some canoes are built for efficiency, i.e. for paddling fast with less effort, and some others are built for maneuverability, i.e. making turns quickly and easily. The following figures show a schematic picture of the shape of canoe from top, side and bottom.\n",
    "\n",
    "<img src=\"figures/canoe-design-diagram-terminology-parts-of-a-canoe-1024x824.png\" width=\"600\">\n",
    "<center>Schematic shape of canoes--top, bottom and side views<center>\n",
    "<p>\n",
    "<font size=\"1\"> \n",
    "image from: https://canoeing.com/wp-content/uploads/2017/01/canoe-design-diagram-terminology-parts-of-a-canoe-1024x824.png\n",
    "</font>\n",
    "<p>"
   ]
  },
  {
   "cell_type": "code",
   "execution_count": 1,
   "id": "5194a33c",
   "metadata": {
    "tags": []
   },
   "outputs": [
    {
     "data": {
      "application/vnd.jupyter.widget-view+json": {
       "model_id": "1e88be4bb33f4c3d80655d92f70909ed",
       "version_major": 2,
       "version_minor": 0
      },
      "text/plain": [
       "interactive(children=(FloatSlider(value=7.687, continuous_update=False, description='length (m)', max=10.0, mi…"
      ]
     },
     "metadata": {},
     "output_type": "display_data"
    }
   ],
   "source": [
    "import scripts.BezierSurf_Interface as bsi\n",
    "bsi.Canoe() #NOOTKAN-STYLE Canoe"
   ]
  },
  {
   "cell_type": "code",
   "execution_count": null,
   "id": "3a983577-409a-4462-a9c1-75909f94fe11",
   "metadata": {},
   "outputs": [],
   "source": [
    "#first week\n",
    "#first task, add height and compute canoe. ~Sharable version.\n",
    "#higher than design doc: bouyancy update with new visuals.\n",
    "\n",
    "#first - second week\n",
    "#last: work needed for making a canoe model, for feeback and stuff."
   ]
  },
  {
   "cell_type": "code",
   "execution_count": 4,
   "id": "4a9bfaa0-6c04-47e2-9bb9-a2cc0f05445a",
   "metadata": {},
   "outputs": [
    {
     "data": {
      "text/plain": [
       "'\\nDEBUG BELOW\\n'"
      ]
     },
     "execution_count": 4,
     "metadata": {},
     "output_type": "execute_result"
    }
   ],
   "source": [
    "\"\"\"\n",
    "DEBUG BELOW\n",
    "\"\"\""
   ]
  },
  {
   "cell_type": "code",
   "execution_count": 3,
   "id": "163b6f36",
   "metadata": {},
   "outputs": [],
   "source": [
    "import scripts.BezierSurface as bs\n",
    "import plotly.graph_objects as go\n",
    "import numpy as np"
   ]
  },
  {
   "cell_type": "code",
   "execution_count": 2,
   "id": "284bf48a-9ff3-41c5-a03d-0b3c7f36d45c",
   "metadata": {},
   "outputs": [],
   "source": [
    "P = [[[0,0,0],[0,3,0],[0,6,0]],\n",
    "     [[3,0,1],[3,3,1],[3,6,0]],\n",
    "     [[6,0,1],[6,3,1],[6,6,0]]]\n",
    "\n",
    "U = [[[0,1,0],[0,1,0],[0,1,0]],\n",
    "     [[0,1,0],[0,1,0],[0,1,0]],\n",
    "     [[0,1,0],[0,1,0],[0,1,0]]]\n",
    "\n",
    "V = [[[1,0,1],[1,0,0],[1,0,-1]],\n",
    "     [[1,0,1],[1,0,0],[1,0,-1]],\n",
    "     [[1,0,1],[1,0,0],[1,0,-1]]]\n",
    "XX, YY, ZZ = bs.GetSurface(P, U, V, 64)"
   ]
  },
  {
   "cell_type": "code",
   "execution_count": null,
   "id": "05dbb878-4ae4-4f2c-938f-6ba50ba09e3e",
   "metadata": {},
   "outputs": [],
   "source": [
    "fig = go.Figure()\n",
    "fig.add_trace(go.Surface(x=XX, y=YY, z=ZZ))\n",
    "\n",
    "x0 = [P[0][0][0],P[0][1][0],P[1][0][0],P[1][1][0],P[2][0][0],P[2][1][0]]\n",
    "y0 = [P[0][0][1],P[0][1][1],P[1][0][1],P[1][1][1],P[2][0][1],P[2][1][1]]\n",
    "z0 = [P[0][0][2],P[0][1][2],P[1][0][2],P[1][1][2],P[2][0][2],P[2][1][2]]\n",
    "fig.add_trace(go.Scatter3d(x = x0, y = y0, z = z0, mode = 'markers'))\n",
    "\n",
    "\n",
    "fig.update_layout(scene = dict(\n",
    "    aspectmode='data'\n",
    "))\n",
    "#fig.update_xaxes(scaleanchor='y', scaleratio=1)\n",
    "#fig.update_scenes(aspectratio=dict(x=1, y=1, z=1))\n",
    "fig.show()\n"
   ]
  }
 ],
 "metadata": {
  "kernelspec": {
   "display_name": "Python 3 (ipykernel)",
   "language": "python",
   "name": "python3"
  },
  "language_info": {
   "codemirror_mode": {
    "name": "ipython",
    "version": 3
   },
   "file_extension": ".py",
   "mimetype": "text/x-python",
   "name": "python",
   "nbconvert_exporter": "python",
   "pygments_lexer": "ipython3",
   "version": "3.9.12"
  }
 },
 "nbformat": 4,
 "nbformat_minor": 5
}
