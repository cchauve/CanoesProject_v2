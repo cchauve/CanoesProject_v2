{
 "cells": [
  {
   "cell_type": "markdown",
   "id": "649b5314-298f-4d2c-aa98-7321cfa2aa40",
   "metadata": {},
   "source": [
    "# Mathematical Modeling of Canoes"
   ]
  },
  {
   "cell_type": "markdown",
   "id": "11c2d3c5-8cc5-42a2-bceb-7a9033d7f134",
   "metadata": {},
   "source": [
    "## Objective\n",
    "In this notebook, we want to develop mathematical equations that represent the complex shape of canoes designed by First Nations people, and use those equations for creating interactive visualizations."
   ]
  },
  {
   "cell_type": "markdown",
   "id": "ba4a5659-2ed5-4f5b-90e9-e7ba24587694",
   "metadata": {},
   "source": [
    "## Different Types of Canoes\n",
    "\n",
    "Ranging in length from three to twenty metres, canoes were essential for travel, transport, hunting, and trade. Different coastal communities developed distinctive styles to suit their particular needs. The following figures refer to canoes from the First Nations people of the Pacific Northwest Coast who are renowned for their elegantly engineered canoes:"
   ]
  },
  {
   "cell_type": "markdown",
   "id": "3ddeeadd-662c-4194-8e25-918861dd2f38",
   "metadata": {},
   "source": [
    "<img src=\"figures/canoe-design-1.jpeg\" width=\"600\">\n",
    "<center>Canoe designs of the First Nations of the Pacific Northwest--Haida Canoe<center>\n",
    "<p>\n",
    "<font size=\"1\"> \n",
    "image from: https://www.donsmaps.com/images30/canoeimg_1225.jpg\n",
    "</font>\n",
    "<p>\n",
    "\n",
    "<img src=\"figures/haida00001a.gif\" width=\"800\">\n",
    "<center>Canoe designs of the First Nations of the Pacific Northwest--Haida Canoe<center>\n",
    "<p>\n",
    "<font size=\"1\"> \n",
    "image from: https://www.donsmaps.com/images30/haida00001a.gif\n",
    "</font>\n",
    "<p>\n",
    "\n",
    "The above two figures refer to the Haida canoe, while the following figure shows the design specifications for the Salish canoe:\n",
    "\n",
    "<img src=\"figures/salish00001a.gif\" width=\"800\">\n",
    "<center>Canoe designs of the First Nations of the Pacific Northwest--Salish Canoe<center>\n",
    "<p>\n",
    "<font size=\"1\"> \n",
    "image from: https://www.donsmaps.com/images30/salish00001a.gif\n",
    "</font>\n",
    "<p>\n",
    "\n",
    "Not all canoes have the same complex shape as the above two canoe types. Comprehensive information about the design specifications of other types of canoes can be found [here](https://www.donsmaps.com/canoedesigns.html). Some are included in below:\n",
    "\n",
    "<img src=\"figures/canadiancanoes1sm.jpeg\" width=\"400\">\n",
    "<center>1- Alaskan Eskimo umiak, or open boat, 2- Labrador Eskimo kayak, 3- Dog-rib canoe, 4- Malecite canoe, 5- Algonquin canoe, 6- Montagnais canoe<center>\n",
    "<p>\n",
    "<font size=\"1\"> \n",
    "image from: https://www.donsmaps.com/images27/canadiancanoes1.jpg\n",
    "</font>\n",
    "<p>\n",
    "    \n",
    "As the above figures suggest, there is no such thing as one-size-fits-all canoe design. The design directly impacts how canoes hanlde on the water. Some canoes are built for efficiency, i.e. for paddling fast with less effort, and some others are built for maneuverability, i.e. making turns quickly and easily. The following figures show a schematic picture of the shape of canoe from top, side and bottom.\n",
    "\n",
    "<img src=\"figures/canoe-design-diagram-terminology-parts-of-a-canoe-1024x824.png\" width=\"600\">\n",
    "<center>Schematic shape of canoes--top, bottom and side views<center>\n",
    "<p>\n",
    "<font size=\"1\"> \n",
    "image from: https://canoeing.com/wp-content/uploads/2017/01/canoe-design-diagram-terminology-parts-of-a-canoe-1024x824.png\n",
    "</font>\n",
    "<p>"
   ]
  },
  {
   "cell_type": "markdown",
   "id": "5c27bf3b-661a-495c-948d-e6a8387ff6f4",
   "metadata": {},
   "source": [
    "The flexibility of the canoe design makes it near impossible to assign a equation that defines its exterior body. Instead we will take a more piece wise approach that takes in a few key features of the canoe and interpolates the rest the body. We will use Bézier Curves, specifically for the 3d surface we will construct a Bézier Curve of the Bézier Curves. \n",
    "\n",
    "A Bézier Curve is a parametric curve that takes in control points and defines a smooth continuous curve. By stringing together multiple curves together we can craft complicated smooth curves.\n",
    "\n",
    "**{PICTURE}**\n",
    "\n",
    "We can then take this higher and ask, what if we interpolate the points themselves, then we've defined an $s,t$ surface. \n",
    "\n",
    "**{Picture with the U and V control points, and s and t positions}**\n",
    "\n",
    "By stringing together these surfaces we can create any smooth shape canoe, that can then be paramaterized. We can change the length, the height, and width. There are other parameterizations we could do but it would start to mess with the actual shape of the canoe causing unwanted effects. "
   ]
  },
  {
   "cell_type": "code",
   "execution_count": 1,
   "id": "5194a33c",
   "metadata": {
    "tags": []
   },
   "outputs": [
    {
     "data": {
      "application/vnd.jupyter.widget-view+json": {
       "model_id": "3d62e9077e5b4c39b0035ac5f0979768",
       "version_major": 2,
       "version_minor": 0
      },
      "text/plain": [
       "interactive(children=(FloatSlider(value=7.687, continuous_update=False, description='length (m)', max=10.0, mi…"
      ]
     },
     "metadata": {},
     "output_type": "display_data"
    }
   ],
   "source": [
    "import scripts.BezierSurf_Interface as bsi\n",
    "bsi.Canoe() #NOOTKAN-STYLE Canoe"
   ]
  },
  {
   "cell_type": "code",
   "execution_count": null,
   "id": "3a983577-409a-4462-a9c1-75909f94fe11",
   "metadata": {},
   "outputs": [],
   "source": [
    "#first week\n",
    "#higher than design doc: bouyancy update with new visuals. ~almost done\n",
    "#Design document - bezier curves and so on.\n",
    "\n",
    "#first - second week\n",
    "#last: work needed for making a canoe model, for feeback and stuff."
   ]
  },
  {
   "cell_type": "code",
   "execution_count": 4,
   "id": "4a9bfaa0-6c04-47e2-9bb9-a2cc0f05445a",
   "metadata": {},
   "outputs": [
    {
     "data": {
      "text/plain": [
       "'\\nDEBUG BELOW\\n'"
      ]
     },
     "execution_count": 4,
     "metadata": {},
     "output_type": "execute_result"
    }
   ],
   "source": [
    "\"\"\"\n",
    "DEBUG BELOW\n",
    "\"\"\""
   ]
  },
  {
   "cell_type": "code",
   "execution_count": 3,
   "id": "51ffd42f-8a93-41c2-a684-e779440b70de",
   "metadata": {},
   "outputs": [
    {
     "data": {
      "text/plain": [
       "(1, 5)"
      ]
     },
     "execution_count": 3,
     "metadata": {},
     "output_type": "execute_result"
    }
   ],
   "source": [
    "X = []\n",
    "X = X + [-4,-3,-2,-1]\n",
    "X\n",
    "test = lambda a,b: [a,b]\n",
    "    \n",
    "a,b = test(1,5)\n",
    "a, b"
   ]
  },
  {
   "cell_type": "code",
   "execution_count": 1,
   "id": "cf75dee0-6d7d-4b06-a3ef-73bf8e5ba684",
   "metadata": {},
   "outputs": [
    {
     "name": "stdout",
     "output_type": "stream",
     "text": [
      "0\n",
      "1\n",
      "2\n",
      "3\n",
      "4\n"
     ]
    }
   ],
   "source": [
    "for i in range(0,5):\n",
    "    print(i)"
   ]
  },
  {
   "cell_type": "code",
   "execution_count": null,
   "id": "3edb0729-ec6b-4ba2-a56b-8ad1097cf4fd",
   "metadata": {},
   "outputs": [],
   "source": []
  }
 ],
 "metadata": {
  "kernelspec": {
   "display_name": "Python 3 (ipykernel)",
   "language": "python",
   "name": "python3"
  },
  "language_info": {
   "codemirror_mode": {
    "name": "ipython",
    "version": 3
   },
   "file_extension": ".py",
   "mimetype": "text/x-python",
   "name": "python",
   "nbconvert_exporter": "python",
   "pygments_lexer": "ipython3",
   "version": "3.9.12"
  }
 },
 "nbformat": 4,
 "nbformat_minor": 5
}
