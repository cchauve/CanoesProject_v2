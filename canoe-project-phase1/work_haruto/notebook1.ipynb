{
 "cells": [
  {
   "cell_type": "markdown",
   "id": "dba7d288",
   "metadata": {},
   "source": [
    "# Canoe visualization"
   ]
  },
  {
   "cell_type": "code",
   "execution_count": 4,
   "id": "9819b9f4",
   "metadata": {},
   "outputs": [],
   "source": [
    "import numpy as np\n",
    "import plotly.graph_objs as go\n",
    "import ipywidgets as widgets\n",
    "from ipywidgets import *\n",
    "import decimal\n",
    "from plot_funcs import plot_canoe"
   ]
  },
  {
   "cell_type": "code",
   "execution_count": null,
   "id": "19ff814a",
   "metadata": {},
   "outputs": [],
   "source": [
    "canoe_type=int(input(\"canoe type is: \"))\n",
    "min_width, max_width=input(\"width range is: \").split()\n",
    "width=[float(min_width), float(max_width)]\n",
    "min_height, max_height=input(\"height range is: \").split()\n",
    "height=[float(min_height), float(max_height)]\n",
    "min_length, max_length=input(\"length range is: \").split()\n",
    "length=[float(min_length), float(max_length)]\n",
    "min_corner_radius, max_corner_radius=input(\"corner radius range is: \").split()\n",
    "corner_radius=[float(min_corner_radius), float(max_corner_radius)]\n",
    "plot_canoe(width, height, length, corner_radius, canoe_type)"
   ]
  },
  {
   "cell_type": "code",
   "execution_count": null,
   "id": "85bb4f68-f60d-4ec0-ad54-8d25f0e3918d",
   "metadata": {},
   "outputs": [],
   "source": []
  }
 ],
 "metadata": {
  "kernelspec": {
   "display_name": "Python 3 (ipykernel)",
   "language": "python",
   "name": "python3"
  },
  "language_info": {
   "codemirror_mode": {
    "name": "ipython",
    "version": 3
   },
   "file_extension": ".py",
   "mimetype": "text/x-python",
   "name": "python",
   "nbconvert_exporter": "python",
   "pygments_lexer": "ipython3",
   "version": "3.9.7"
  }
 },
 "nbformat": 4,
 "nbformat_minor": 5
}
